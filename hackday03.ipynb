{
  "cells": [
    {
      "cell_type": "markdown",
      "metadata": {
        "id": "x5n5lF7qzx6_"
      },
      "source": [
        "# Descrição do problema"
      ]
    },
    {
      "cell_type": "markdown",
      "metadata": {},
      "source": [
        "O Billion Bank é um banco digital brasileiro, fundado em 2021. Trabalha hoje com contas digitais, e cartões de crédito.\n",
        "\n",
        "Quando um cliente solicita aumento de limite no cartão de crédito, o banco consulta uma empresa de crédito terceira, que retorna uma recomendação: \"negar\" ou \"conceder\". Essa resposta é repassada ao cliente.\n",
        "\n",
        "Dado que a empresa de crédito precisa levantar maiores informações de histórico financeiro do cliente com terceiros, o retorno da recomendação ao banco leva até 5 dias úteis!\n",
        "\n",
        "Tratando-se de um serviço, a cada solicitação de aumento de limite feita por um cliente, o banco tem um custo adicional de consulta. Visando reduzir este custo, em 2022, o banco passou a só aceitar novos pedidos de aumento de limite a cada 3 meses.\n",
        "\n",
        "O banco viu um aumento leve do churn no primeiro semestre, que se acentuou mais no segundo, chegando a um ponto já preocupante. O time de CS fez contato com antigos clientes, e constatou que o principal motivo do churn foi a percepção de burocracia relacionada ao aumento nos limites.\n",
        "\n",
        "Para reverter o cenário, o banco traçou um plano de ação com dois objetivos:\n",
        "1. Desburocratizar o processo, permitindo que o cliente possa solicitar um novo limite uma vez por semana, tendo uma resposta instantânea.\n",
        "2. Desativar as consultas de recomendação de aumento de limites feitas hoje com a empresa terceira, que são demoradas e custosas.\n",
        "\n",
        "Para concretizar o plano, foi solicitado ao time de cientistas de dados, que com base no histórico de recomendações (\"negar\" ou \"conceder\") da empresa de crédito, aliado ao histórico financeiro dos clientes, desenvolvam um modelo de avaliação de aumento de limite de cartão de crédito dentro de casa.\n",
        "\n",
        "O modelo de classificação, deve informar se o Billion Bank deve \"negar\" ou \"conceder\" o aumento no limite solicitado pelo cliente."
      ]
    },
    {
      "cell_type": "markdown",
      "metadata": {
        "id": "0rrAOooB0kjH"
      },
      "source": [
        "# 0. Importações e leitura dos dados"
      ]
    },
    {
      "cell_type": "code",
      "execution_count": 3,
      "metadata": {
        "id": "Ts_TZPMsysTk"
      },
      "outputs": [
        {
          "name": "stderr",
          "output_type": "stream",
          "text": [
            "c:\\Users\\joao.antunes\\AppData\\Local\\miniconda3\\envs\\ambienteds\\lib\\site-packages\\scipy\\__init__.py:146: UserWarning: A NumPy version >=1.17.3 and <1.25.0 is required for this version of SciPy (detected version 1.26.4\n",
            "  warnings.warn(f\"A NumPy version >={np_minversion} and <{np_maxversion}\"\n"
          ]
        }
      ],
      "source": [
        "import numpy as np\n",
        "import pandas as pd\n",
        "import seaborn as sns\n",
        "from boruta import BorutaPy\n",
        "import matplotlib.pyplot as plt\n",
        "# from scipy import stats\n",
        "# from datetime import datetime\n",
        "# from sklearn.ensemble import RandomForestRegressor\n",
        "# from sklearn.model_selection import train_test_split, cross_validate\n",
        "# from sklearn.metrics import mean_absolute_error, mean_absolute_percentage_error, mean_squared_error, make_scorer\n",
        "# from sklearn.linear_model import LinearRegression, Lasso\n",
        "# from xgboost import XGBRegressor\n",
        "\n",
        "from sklearn.preprocessing import MinMaxScaler, RobustScaler, LabelEncoder, StandardScaler\n",
        "\n",
        "from sklearn.tree import DecisionTreeClassifier\n",
        "from sklearn.model_selection import train_test_split\n",
        "from sklearn.pipeline import Pipeline, make_pipeline\n",
        "from sklearn.impute import SimpleImputer\n",
        "from category_encoders import OneHotEncoder\n",
        "from sklearn.model_selection import KFold\n",
        "from sklearn.model_selection import cross_validate\n",
        "from sklearn.model_selection import GridSearchCV\n",
        "from sklearn.model_selection import cross_val_score\n",
        "from sklearn.compose import ColumnTransformer, make_column_selector, make_column_transformer\n",
        "\n",
        "from sklearn.metrics import classification_report\n",
        "# from sklearn.metrics import plot_confusion_matrix\n",
        "\n",
        "from sklearn.ensemble import ExtraTreesClassifier\n",
        "from sklearn.ensemble import RandomForestClassifier\n",
        "from sklearn.ensemble import GradientBoostingClassifier\n",
        "from sklearn.linear_model import LogisticRegression\n",
        "from imblearn.over_sampling import SMOTE"
      ]
    },
    {
      "cell_type": "markdown",
      "metadata": {
        "id": "_cW2iEz10mLE"
      },
      "source": [
        "## 0.1. Funções"
      ]
    },
    {
      "cell_type": "code",
      "execution_count": 4,
      "metadata": {
        "id": "swEGeNCm8Jit"
      },
      "outputs": [],
      "source": [
        "def avaliar(model, X, y, n_splits=5, random_state=None):\n",
        "\n",
        "    kf = KFold(n_splits=n_splits, shuffle=True, random_state=random_state)\n",
        "    \n",
        "    # validação cruzada\n",
        "    cv_results = cross_validate(\n",
        "        model,\n",
        "        X,\n",
        "        y,\n",
        "        cv=kf,\n",
        "        scoring=(\"f1_weighted\", \"recall_weighted\", \"precision_weighted\")\n",
        "    )\n",
        "    # calcula métricas\n",
        "    f1_weighted = cv_results['test_f1_weighted']\n",
        "    recall_weighted = cv_results['test_recall_weighted']\n",
        "    precision_weighted = cv_results['test_precision_weighted']\n",
        "    \n",
        "    # printa\n",
        "    print(\n",
        "        f\"***Modelo: {model.__class__.__name__}***\\n\"\n",
        "        f\"F1: {f1_weighted.mean():.3f} ± {f1_weighted.std():.3f}\\n\"\n",
        "        f\"Recall: {recall_weighted.mean():.3f} ± {recall_weighted.std():.3f}\\n\"\n",
        "        f\"Precision: {precision_weighted.mean():.3f} ± {precision_weighted.std():.3f}\\n\"\n",
        "    )\n",
        "\n",
        "def tendencia_central(num_attributes):\n",
        "    # Tendencia central - mean, ]median\n",
        "    ct1 = pd.DataFrame( num_attributes.apply( np.mean ) ).T\n",
        "    ct2 = pd.DataFrame( num_attributes.apply( np.median ) ).T\n",
        "\n",
        "    # Dispersão - std, min, max, range, knew, kurtosis\n",
        "    d1 = pd.DataFrame( num_attributes.apply( np.std ) ).T\n",
        "    d2 = pd.DataFrame( num_attributes.apply( np.min ) ).T\n",
        "    d3 = pd.DataFrame( num_attributes.apply( np.max ) ).T\n",
        "    d4 = pd.DataFrame( num_attributes.apply( lambda x: x.max() - x.min() ) ).T\n",
        "    d5 = pd.DataFrame( num_attributes.apply( lambda x: x.skew() ) ).T\n",
        "    d6 = pd.DataFrame( num_attributes.apply( lambda x: x.kurtosis() ) ).T\n",
        "\n",
        "    #Concatenar\n",
        "    m = pd.concat( [d2, d3, d4, ct1, ct2, d1, d5, d6] ).T.reset_index()\n",
        "    m.columns =['attributes', 'min', 'max', 'range', 'mean', 'median', 'std', 'skew', 'kurtosis']\n",
        "\n",
        "    return m"
      ]
    },
    {
      "cell_type": "markdown",
      "metadata": {
        "id": "yDI_RXSQ07R6"
      },
      "source": [
        "## 0.2. Leitura dos dados"
      ]
    },
    {
      "cell_type": "code",
      "execution_count": 5,
      "metadata": {
        "id": "3IlnN-lM1tEF"
      },
      "outputs": [],
      "source": [
        "df_raw = pd.read_csv('train.csv')\n",
        "df_validacao = pd.read_csv('test.csv')"
      ]
    },
    {
      "cell_type": "markdown",
      "metadata": {
        "id": "fRpqIi7G3x3C"
      },
      "source": [
        "# 1.0. Descrição dos Dados"
      ]
    },
    {
      "cell_type": "code",
      "execution_count": 6,
      "metadata": {
        "id": "ED50Jqg5Yy2N"
      },
      "outputs": [],
      "source": [
        "df1 = df_raw.copy()"
      ]
    },
    {
      "cell_type": "code",
      "execution_count": 7,
      "metadata": {
        "colab": {
          "base_uri": "https://localhost:8080/"
        },
        "id": "dnT0e_RnaHYZ",
        "outputId": "6d3aa91a-f0bb-47fa-e56e-46f58b11e5cf"
      },
      "outputs": [
        {
          "data": {
            "text/plain": [
              "Index(['id_cliente', 'idade', 'saldo_atual', 'divida_atual', 'renda_anual',\n",
              "       'valor_em_investimentos', 'taxa_utilizacao_credito', 'num_emprestimos',\n",
              "       'num_contas_bancarias', 'num_cartoes_credito', 'dias_atraso_dt_venc',\n",
              "       'num_pgtos_atrasados', 'num_consultas_credito', 'taxa_juros',\n",
              "       'investe_exterior', 'pessoa_polit_exp', 'limite_adicional'],\n",
              "      dtype='object')"
            ]
          },
          "execution_count": 7,
          "metadata": {},
          "output_type": "execute_result"
        }
      ],
      "source": [
        "df1.columns"
      ]
    },
    {
      "cell_type": "code",
      "execution_count": 8,
      "metadata": {
        "colab": {
          "base_uri": "https://localhost:8080/",
          "height": 270
        },
        "id": "YAZg5RXt5L9j",
        "outputId": "f845b762-1a31-41a4-d79e-6c81f36687ae"
      },
      "outputs": [
        {
          "data": {
            "text/html": [
              "<div>\n",
              "<style scoped>\n",
              "    .dataframe tbody tr th:only-of-type {\n",
              "        vertical-align: middle;\n",
              "    }\n",
              "\n",
              "    .dataframe tbody tr th {\n",
              "        vertical-align: top;\n",
              "    }\n",
              "\n",
              "    .dataframe thead th {\n",
              "        text-align: right;\n",
              "    }\n",
              "</style>\n",
              "<table border=\"1\" class=\"dataframe\">\n",
              "  <thead>\n",
              "    <tr style=\"text-align: right;\">\n",
              "      <th></th>\n",
              "      <th>id_cliente</th>\n",
              "      <th>idade</th>\n",
              "      <th>saldo_atual</th>\n",
              "      <th>divida_atual</th>\n",
              "      <th>renda_anual</th>\n",
              "      <th>valor_em_investimentos</th>\n",
              "      <th>taxa_utilizacao_credito</th>\n",
              "      <th>num_emprestimos</th>\n",
              "      <th>num_contas_bancarias</th>\n",
              "      <th>num_cartoes_credito</th>\n",
              "      <th>dias_atraso_dt_venc</th>\n",
              "      <th>num_pgtos_atrasados</th>\n",
              "      <th>num_consultas_credito</th>\n",
              "      <th>taxa_juros</th>\n",
              "      <th>investe_exterior</th>\n",
              "      <th>pessoa_polit_exp</th>\n",
              "      <th>limite_adicional</th>\n",
              "    </tr>\n",
              "  </thead>\n",
              "  <tbody>\n",
              "    <tr>\n",
              "      <th>0</th>\n",
              "      <td>1767</td>\n",
              "      <td>21</td>\n",
              "      <td>278.172008</td>\n",
              "      <td>2577.05</td>\n",
              "      <td>24196.89636</td>\n",
              "      <td>104.306544</td>\n",
              "      <td>31.038763</td>\n",
              "      <td>6</td>\n",
              "      <td>5</td>\n",
              "      <td>7</td>\n",
              "      <td>21</td>\n",
              "      <td>14</td>\n",
              "      <td>9</td>\n",
              "      <td>15</td>\n",
              "      <td>Não</td>\n",
              "      <td>Não</td>\n",
              "      <td>Negar</td>\n",
              "    </tr>\n",
              "    <tr>\n",
              "      <th>1</th>\n",
              "      <td>11920</td>\n",
              "      <td>40</td>\n",
              "      <td>268.874152</td>\n",
              "      <td>2465.39</td>\n",
              "      <td>19227.37796</td>\n",
              "      <td>69.858778</td>\n",
              "      <td>36.917093</td>\n",
              "      <td>5</td>\n",
              "      <td>8</td>\n",
              "      <td>5</td>\n",
              "      <td>40</td>\n",
              "      <td>23</td>\n",
              "      <td>10</td>\n",
              "      <td>18</td>\n",
              "      <td>Não</td>\n",
              "      <td>Não</td>\n",
              "      <td>Negar</td>\n",
              "    </tr>\n",
              "    <tr>\n",
              "      <th>2</th>\n",
              "      <td>8910</td>\n",
              "      <td>36</td>\n",
              "      <td>446.643127</td>\n",
              "      <td>1055.29</td>\n",
              "      <td>42822.28223</td>\n",
              "      <td>134.201478</td>\n",
              "      <td>34.561714</td>\n",
              "      <td>0</td>\n",
              "      <td>3</td>\n",
              "      <td>6</td>\n",
              "      <td>26</td>\n",
              "      <td>13</td>\n",
              "      <td>3</td>\n",
              "      <td>15</td>\n",
              "      <td>Sim</td>\n",
              "      <td>Não</td>\n",
              "      <td>Negar</td>\n",
              "    </tr>\n",
              "    <tr>\n",
              "      <th>3</th>\n",
              "      <td>4964</td>\n",
              "      <td>58</td>\n",
              "      <td>321.141267</td>\n",
              "      <td>703.05</td>\n",
              "      <td>51786.82600</td>\n",
              "      <td>297.350067</td>\n",
              "      <td>31.493561</td>\n",
              "      <td>0</td>\n",
              "      <td>3</td>\n",
              "      <td>7</td>\n",
              "      <td>12</td>\n",
              "      <td>7</td>\n",
              "      <td>2</td>\n",
              "      <td>1</td>\n",
              "      <td>Sim</td>\n",
              "      <td>Não</td>\n",
              "      <td>Negar</td>\n",
              "    </tr>\n",
              "    <tr>\n",
              "      <th>4</th>\n",
              "      <td>10100</td>\n",
              "      <td>35</td>\n",
              "      <td>428.716114</td>\n",
              "      <td>891.29</td>\n",
              "      <td>44626.85346</td>\n",
              "      <td>134.201478</td>\n",
              "      <td>28.028887</td>\n",
              "      <td>2</td>\n",
              "      <td>8</td>\n",
              "      <td>7</td>\n",
              "      <td>24</td>\n",
              "      <td>10</td>\n",
              "      <td>8</td>\n",
              "      <td>20</td>\n",
              "      <td>Sim</td>\n",
              "      <td>Não</td>\n",
              "      <td>Negar</td>\n",
              "    </tr>\n",
              "  </tbody>\n",
              "</table>\n",
              "</div>"
            ],
            "text/plain": [
              "   id_cliente  idade  saldo_atual  divida_atual  renda_anual  \\\n",
              "0        1767     21   278.172008       2577.05  24196.89636   \n",
              "1       11920     40   268.874152       2465.39  19227.37796   \n",
              "2        8910     36   446.643127       1055.29  42822.28223   \n",
              "3        4964     58   321.141267        703.05  51786.82600   \n",
              "4       10100     35   428.716114        891.29  44626.85346   \n",
              "\n",
              "   valor_em_investimentos  taxa_utilizacao_credito  num_emprestimos  \\\n",
              "0              104.306544                31.038763                6   \n",
              "1               69.858778                36.917093                5   \n",
              "2              134.201478                34.561714                0   \n",
              "3              297.350067                31.493561                0   \n",
              "4              134.201478                28.028887                2   \n",
              "\n",
              "   num_contas_bancarias  num_cartoes_credito  dias_atraso_dt_venc  \\\n",
              "0                     5                    7                   21   \n",
              "1                     8                    5                   40   \n",
              "2                     3                    6                   26   \n",
              "3                     3                    7                   12   \n",
              "4                     8                    7                   24   \n",
              "\n",
              "   num_pgtos_atrasados  num_consultas_credito  taxa_juros investe_exterior  \\\n",
              "0                   14                      9          15              Não   \n",
              "1                   23                     10          18              Não   \n",
              "2                   13                      3          15              Sim   \n",
              "3                    7                      2           1              Sim   \n",
              "4                   10                      8          20              Sim   \n",
              "\n",
              "  pessoa_polit_exp limite_adicional  \n",
              "0              Não            Negar  \n",
              "1              Não            Negar  \n",
              "2              Não            Negar  \n",
              "3              Não            Negar  \n",
              "4              Não            Negar  "
            ]
          },
          "execution_count": 8,
          "metadata": {},
          "output_type": "execute_result"
        }
      ],
      "source": [
        "df1.head()"
      ]
    },
    {
      "cell_type": "markdown",
      "metadata": {
        "id": "SkVQfTEv3-nG"
      },
      "source": [
        "## 1.1. Dimensão dos Dados"
      ]
    },
    {
      "cell_type": "code",
      "execution_count": 9,
      "metadata": {
        "colab": {
          "base_uri": "https://localhost:8080/"
        },
        "id": "yZBbeAeqZTQz",
        "outputId": "bc752a79-9372-4b55-d368-9f770b241808"
      },
      "outputs": [
        {
          "name": "stdout",
          "output_type": "stream",
          "text": [
            "Linhas: 9500\n",
            "Colunas: 17\n"
          ]
        }
      ],
      "source": [
        "# treino\n",
        "print(f'Linhas: {df1.shape[0]}')\n",
        "print(f'Colunas: {df1.shape[1]}')"
      ]
    },
    {
      "cell_type": "code",
      "execution_count": 10,
      "metadata": {
        "colab": {
          "base_uri": "https://localhost:8080/"
        },
        "id": "KIJynBuBZphd",
        "outputId": "472ee131-079a-47d9-87db-a1328849b369"
      },
      "outputs": [
        {
          "name": "stdout",
          "output_type": "stream",
          "text": [
            "Linhas: 3000\n",
            "Colunas: 16\n"
          ]
        }
      ],
      "source": [
        "# teste\n",
        "print(f'Linhas: {df_validacao.shape[0]}')\n",
        "print(f'Colunas: {df_validacao.shape[1]}')"
      ]
    },
    {
      "cell_type": "markdown",
      "metadata": {
        "id": "U_ikPJIZ4AYo"
      },
      "source": [
        "## 1.2. Tipos de dados"
      ]
    },
    {
      "cell_type": "code",
      "execution_count": 11,
      "metadata": {
        "colab": {
          "base_uri": "https://localhost:8080/"
        },
        "id": "zvlLyIFXbJjX",
        "outputId": "bfc83c8f-43bd-47a1-e541-8fa358bb2c90"
      },
      "outputs": [
        {
          "data": {
            "text/plain": [
              "id_cliente                   int64\n",
              "idade                        int64\n",
              "saldo_atual                float64\n",
              "divida_atual               float64\n",
              "renda_anual                float64\n",
              "valor_em_investimentos     float64\n",
              "taxa_utilizacao_credito    float64\n",
              "num_emprestimos              int64\n",
              "num_contas_bancarias         int64\n",
              "num_cartoes_credito          int64\n",
              "dias_atraso_dt_venc          int64\n",
              "num_pgtos_atrasados          int64\n",
              "num_consultas_credito        int64\n",
              "taxa_juros                   int64\n",
              "investe_exterior            object\n",
              "pessoa_polit_exp            object\n",
              "limite_adicional            object\n",
              "dtype: object"
            ]
          },
          "execution_count": 11,
          "metadata": {},
          "output_type": "execute_result"
        }
      ],
      "source": [
        "df1.dtypes"
      ]
    },
    {
      "cell_type": "markdown",
      "metadata": {
        "id": "z4221d7b4AbC"
      },
      "source": [
        "## 1.3. Check NA"
      ]
    },
    {
      "cell_type": "code",
      "execution_count": 12,
      "metadata": {
        "colab": {
          "base_uri": "https://localhost:8080/"
        },
        "id": "TzbZv9I5d-Dv",
        "outputId": "5fff2fec-0009-4f76-d026-cae321bc6224"
      },
      "outputs": [
        {
          "data": {
            "text/plain": [
              "id_cliente                 0\n",
              "idade                      0\n",
              "saldo_atual                0\n",
              "divida_atual               0\n",
              "renda_anual                0\n",
              "valor_em_investimentos     0\n",
              "taxa_utilizacao_credito    0\n",
              "num_emprestimos            0\n",
              "num_contas_bancarias       0\n",
              "num_cartoes_credito        0\n",
              "dias_atraso_dt_venc        0\n",
              "num_pgtos_atrasados        0\n",
              "num_consultas_credito      0\n",
              "taxa_juros                 0\n",
              "investe_exterior           0\n",
              "pessoa_polit_exp           0\n",
              "limite_adicional           0\n",
              "dtype: int64"
            ]
          },
          "execution_count": 12,
          "metadata": {},
          "output_type": "execute_result"
        }
      ],
      "source": [
        "df1.isna().sum()"
      ]
    },
    {
      "cell_type": "markdown",
      "metadata": {
        "id": "XqaVq7Vq4Ah8"
      },
      "source": [
        "## 1.4. Estatística Descritiva"
      ]
    },
    {
      "cell_type": "code",
      "execution_count": 13,
      "metadata": {
        "id": "Jvhgg3Lyhvj-"
      },
      "outputs": [],
      "source": [
        "num_attr = df1.select_dtypes(include=['int64', 'int32', 'float64'])\n",
        "cat_attr = df1.select_dtypes(exclude=['int64', 'int32', 'float64'])"
      ]
    },
    {
      "cell_type": "markdown",
      "metadata": {
        "id": "ij98BAin4AkI"
      },
      "source": [
        "## 1.4.1 Atributos Numéricos"
      ]
    },
    {
      "cell_type": "code",
      "execution_count": 14,
      "metadata": {
        "colab": {
          "base_uri": "https://localhost:8080/",
          "height": 488
        },
        "id": "Zw69FkxNoGBr",
        "outputId": "fbf91b0d-fc78-45b2-a90c-b353bac57172"
      },
      "outputs": [
        {
          "data": {
            "text/html": [
              "<div>\n",
              "<style scoped>\n",
              "    .dataframe tbody tr th:only-of-type {\n",
              "        vertical-align: middle;\n",
              "    }\n",
              "\n",
              "    .dataframe tbody tr th {\n",
              "        vertical-align: top;\n",
              "    }\n",
              "\n",
              "    .dataframe thead th {\n",
              "        text-align: right;\n",
              "    }\n",
              "</style>\n",
              "<table border=\"1\" class=\"dataframe\">\n",
              "  <thead>\n",
              "    <tr style=\"text-align: right;\">\n",
              "      <th></th>\n",
              "      <th>count</th>\n",
              "      <th>mean</th>\n",
              "      <th>std</th>\n",
              "      <th>min</th>\n",
              "      <th>25%</th>\n",
              "      <th>50%</th>\n",
              "      <th>75%</th>\n",
              "      <th>max</th>\n",
              "    </tr>\n",
              "  </thead>\n",
              "  <tbody>\n",
              "    <tr>\n",
              "      <th>id_cliente</th>\n",
              "      <td>9500.0</td>\n",
              "      <td>6210.532947</td>\n",
              "      <td>3.603244e+03</td>\n",
              "      <td>1.000000</td>\n",
              "      <td>3091.750000</td>\n",
              "      <td>6172.500000</td>\n",
              "      <td>9320.250000</td>\n",
              "      <td>1.250000e+04</td>\n",
              "    </tr>\n",
              "    <tr>\n",
              "      <th>idade</th>\n",
              "      <td>9500.0</td>\n",
              "      <td>126.398421</td>\n",
              "      <td>6.850360e+02</td>\n",
              "      <td>18.000000</td>\n",
              "      <td>28.000000</td>\n",
              "      <td>38.000000</td>\n",
              "      <td>47.000000</td>\n",
              "      <td>8.598000e+03</td>\n",
              "    </tr>\n",
              "    <tr>\n",
              "      <th>saldo_atual</th>\n",
              "      <td>9500.0</td>\n",
              "      <td>404.532032</td>\n",
              "      <td>2.176967e+02</td>\n",
              "      <td>0.088628</td>\n",
              "      <td>272.363060</td>\n",
              "      <td>337.169588</td>\n",
              "      <td>471.264657</td>\n",
              "      <td>1.602041e+03</td>\n",
              "    </tr>\n",
              "    <tr>\n",
              "      <th>divida_atual</th>\n",
              "      <td>9500.0</td>\n",
              "      <td>1437.086420</td>\n",
              "      <td>1.156263e+03</td>\n",
              "      <td>0.230000</td>\n",
              "      <td>573.620000</td>\n",
              "      <td>1175.730000</td>\n",
              "      <td>1963.332500</td>\n",
              "      <td>4.998070e+03</td>\n",
              "    </tr>\n",
              "    <tr>\n",
              "      <th>renda_anual</th>\n",
              "      <td>9500.0</td>\n",
              "      <td>195037.274234</td>\n",
              "      <td>1.454274e+06</td>\n",
              "      <td>10473.865350</td>\n",
              "      <td>26207.900390</td>\n",
              "      <td>45991.106000</td>\n",
              "      <td>80449.829250</td>\n",
              "      <td>2.327966e+07</td>\n",
              "    </tr>\n",
              "    <tr>\n",
              "      <th>valor_em_investimentos</th>\n",
              "      <td>9500.0</td>\n",
              "      <td>611.999323</td>\n",
              "      <td>2.002444e+03</td>\n",
              "      <td>0.000000</td>\n",
              "      <td>76.083981</td>\n",
              "      <td>134.201478</td>\n",
              "      <td>249.182915</td>\n",
              "      <td>1.000000e+04</td>\n",
              "    </tr>\n",
              "    <tr>\n",
              "      <th>taxa_utilizacao_credito</th>\n",
              "      <td>9500.0</td>\n",
              "      <td>32.270823</td>\n",
              "      <td>5.106053e+00</td>\n",
              "      <td>20.992914</td>\n",
              "      <td>28.078872</td>\n",
              "      <td>32.262649</td>\n",
              "      <td>36.464575</td>\n",
              "      <td>4.956452e+01</td>\n",
              "    </tr>\n",
              "    <tr>\n",
              "      <th>num_emprestimos</th>\n",
              "      <td>9500.0</td>\n",
              "      <td>10.863684</td>\n",
              "      <td>6.255542e+01</td>\n",
              "      <td>0.000000</td>\n",
              "      <td>2.000000</td>\n",
              "      <td>3.000000</td>\n",
              "      <td>6.000000</td>\n",
              "      <td>1.496000e+03</td>\n",
              "    </tr>\n",
              "    <tr>\n",
              "      <th>num_contas_bancarias</th>\n",
              "      <td>9500.0</td>\n",
              "      <td>17.552316</td>\n",
              "      <td>1.209802e+02</td>\n",
              "      <td>0.000000</td>\n",
              "      <td>3.000000</td>\n",
              "      <td>6.000000</td>\n",
              "      <td>7.000000</td>\n",
              "      <td>1.779000e+03</td>\n",
              "    </tr>\n",
              "    <tr>\n",
              "      <th>num_cartoes_credito</th>\n",
              "      <td>9500.0</td>\n",
              "      <td>21.433158</td>\n",
              "      <td>1.226774e+02</td>\n",
              "      <td>1.000000</td>\n",
              "      <td>4.000000</td>\n",
              "      <td>6.000000</td>\n",
              "      <td>7.000000</td>\n",
              "      <td>1.479000e+03</td>\n",
              "    </tr>\n",
              "    <tr>\n",
              "      <th>dias_atraso_dt_venc</th>\n",
              "      <td>9500.0</td>\n",
              "      <td>20.990316</td>\n",
              "      <td>1.480061e+01</td>\n",
              "      <td>-5.000000</td>\n",
              "      <td>10.000000</td>\n",
              "      <td>18.000000</td>\n",
              "      <td>28.000000</td>\n",
              "      <td>6.700000e+01</td>\n",
              "    </tr>\n",
              "    <tr>\n",
              "      <th>num_pgtos_atrasados</th>\n",
              "      <td>9500.0</td>\n",
              "      <td>29.832421</td>\n",
              "      <td>2.226378e+02</td>\n",
              "      <td>0.000000</td>\n",
              "      <td>9.000000</td>\n",
              "      <td>14.000000</td>\n",
              "      <td>18.000000</td>\n",
              "      <td>4.388000e+03</td>\n",
              "    </tr>\n",
              "    <tr>\n",
              "      <th>num_consultas_credito</th>\n",
              "      <td>9500.0</td>\n",
              "      <td>24.937158</td>\n",
              "      <td>1.837333e+02</td>\n",
              "      <td>0.000000</td>\n",
              "      <td>2.000000</td>\n",
              "      <td>4.000000</td>\n",
              "      <td>8.000000</td>\n",
              "      <td>2.589000e+03</td>\n",
              "    </tr>\n",
              "    <tr>\n",
              "      <th>taxa_juros</th>\n",
              "      <td>9500.0</td>\n",
              "      <td>66.618632</td>\n",
              "      <td>4.401185e+02</td>\n",
              "      <td>1.000000</td>\n",
              "      <td>8.000000</td>\n",
              "      <td>14.000000</td>\n",
              "      <td>20.000000</td>\n",
              "      <td>5.788000e+03</td>\n",
              "    </tr>\n",
              "  </tbody>\n",
              "</table>\n",
              "</div>"
            ],
            "text/plain": [
              "                          count           mean           std           min  \\\n",
              "id_cliente               9500.0    6210.532947  3.603244e+03      1.000000   \n",
              "idade                    9500.0     126.398421  6.850360e+02     18.000000   \n",
              "saldo_atual              9500.0     404.532032  2.176967e+02      0.088628   \n",
              "divida_atual             9500.0    1437.086420  1.156263e+03      0.230000   \n",
              "renda_anual              9500.0  195037.274234  1.454274e+06  10473.865350   \n",
              "valor_em_investimentos   9500.0     611.999323  2.002444e+03      0.000000   \n",
              "taxa_utilizacao_credito  9500.0      32.270823  5.106053e+00     20.992914   \n",
              "num_emprestimos          9500.0      10.863684  6.255542e+01      0.000000   \n",
              "num_contas_bancarias     9500.0      17.552316  1.209802e+02      0.000000   \n",
              "num_cartoes_credito      9500.0      21.433158  1.226774e+02      1.000000   \n",
              "dias_atraso_dt_venc      9500.0      20.990316  1.480061e+01     -5.000000   \n",
              "num_pgtos_atrasados      9500.0      29.832421  2.226378e+02      0.000000   \n",
              "num_consultas_credito    9500.0      24.937158  1.837333e+02      0.000000   \n",
              "taxa_juros               9500.0      66.618632  4.401185e+02      1.000000   \n",
              "\n",
              "                                  25%           50%           75%  \\\n",
              "id_cliente                3091.750000   6172.500000   9320.250000   \n",
              "idade                       28.000000     38.000000     47.000000   \n",
              "saldo_atual                272.363060    337.169588    471.264657   \n",
              "divida_atual               573.620000   1175.730000   1963.332500   \n",
              "renda_anual              26207.900390  45991.106000  80449.829250   \n",
              "valor_em_investimentos      76.083981    134.201478    249.182915   \n",
              "taxa_utilizacao_credito     28.078872     32.262649     36.464575   \n",
              "num_emprestimos              2.000000      3.000000      6.000000   \n",
              "num_contas_bancarias         3.000000      6.000000      7.000000   \n",
              "num_cartoes_credito          4.000000      6.000000      7.000000   \n",
              "dias_atraso_dt_venc         10.000000     18.000000     28.000000   \n",
              "num_pgtos_atrasados          9.000000     14.000000     18.000000   \n",
              "num_consultas_credito        2.000000      4.000000      8.000000   \n",
              "taxa_juros                   8.000000     14.000000     20.000000   \n",
              "\n",
              "                                  max  \n",
              "id_cliente               1.250000e+04  \n",
              "idade                    8.598000e+03  \n",
              "saldo_atual              1.602041e+03  \n",
              "divida_atual             4.998070e+03  \n",
              "renda_anual              2.327966e+07  \n",
              "valor_em_investimentos   1.000000e+04  \n",
              "taxa_utilizacao_credito  4.956452e+01  \n",
              "num_emprestimos          1.496000e+03  \n",
              "num_contas_bancarias     1.779000e+03  \n",
              "num_cartoes_credito      1.479000e+03  \n",
              "dias_atraso_dt_venc      6.700000e+01  \n",
              "num_pgtos_atrasados      4.388000e+03  \n",
              "num_consultas_credito    2.589000e+03  \n",
              "taxa_juros               5.788000e+03  "
            ]
          },
          "execution_count": 14,
          "metadata": {},
          "output_type": "execute_result"
        }
      ],
      "source": [
        "num_attr.describe().T"
      ]
    },
    {
      "cell_type": "code",
      "execution_count": 15,
      "metadata": {
        "colab": {
          "base_uri": "https://localhost:8080/",
          "height": 488
        },
        "id": "9ML2Bu8G8bNx",
        "outputId": "54871287-53db-454b-8143-f632b2efa43e"
      },
      "outputs": [
        {
          "data": {
            "text/html": [
              "<div>\n",
              "<style scoped>\n",
              "    .dataframe tbody tr th:only-of-type {\n",
              "        vertical-align: middle;\n",
              "    }\n",
              "\n",
              "    .dataframe tbody tr th {\n",
              "        vertical-align: top;\n",
              "    }\n",
              "\n",
              "    .dataframe thead th {\n",
              "        text-align: right;\n",
              "    }\n",
              "</style>\n",
              "<table border=\"1\" class=\"dataframe\">\n",
              "  <thead>\n",
              "    <tr style=\"text-align: right;\">\n",
              "      <th></th>\n",
              "      <th>attributes</th>\n",
              "      <th>min</th>\n",
              "      <th>max</th>\n",
              "      <th>range</th>\n",
              "      <th>mean</th>\n",
              "      <th>median</th>\n",
              "      <th>std</th>\n",
              "      <th>skew</th>\n",
              "      <th>kurtosis</th>\n",
              "    </tr>\n",
              "  </thead>\n",
              "  <tbody>\n",
              "    <tr>\n",
              "      <th>0</th>\n",
              "      <td>id_cliente</td>\n",
              "      <td>1.000000</td>\n",
              "      <td>1.250000e+04</td>\n",
              "      <td>1.249900e+04</td>\n",
              "      <td>6210.532947</td>\n",
              "      <td>6172.500000</td>\n",
              "      <td>3.603054e+03</td>\n",
              "      <td>0.014114</td>\n",
              "      <td>-1.199109</td>\n",
              "    </tr>\n",
              "    <tr>\n",
              "      <th>1</th>\n",
              "      <td>idade</td>\n",
              "      <td>18.000000</td>\n",
              "      <td>8.598000e+03</td>\n",
              "      <td>8.580000e+03</td>\n",
              "      <td>126.398421</td>\n",
              "      <td>38.000000</td>\n",
              "      <td>6.849999e+02</td>\n",
              "      <td>9.092579</td>\n",
              "      <td>87.613308</td>\n",
              "    </tr>\n",
              "    <tr>\n",
              "      <th>2</th>\n",
              "      <td>saldo_atual</td>\n",
              "      <td>0.088628</td>\n",
              "      <td>1.602041e+03</td>\n",
              "      <td>1.601952e+03</td>\n",
              "      <td>404.532032</td>\n",
              "      <td>337.169588</td>\n",
              "      <td>2.176853e+02</td>\n",
              "      <td>1.621743</td>\n",
              "      <td>3.104578</td>\n",
              "    </tr>\n",
              "    <tr>\n",
              "      <th>3</th>\n",
              "      <td>divida_atual</td>\n",
              "      <td>0.230000</td>\n",
              "      <td>4.998070e+03</td>\n",
              "      <td>4.997840e+03</td>\n",
              "      <td>1437.086420</td>\n",
              "      <td>1175.730000</td>\n",
              "      <td>1.156202e+03</td>\n",
              "      <td>1.187913</td>\n",
              "      <td>0.848447</td>\n",
              "    </tr>\n",
              "    <tr>\n",
              "      <th>4</th>\n",
              "      <td>renda_anual</td>\n",
              "      <td>10473.865350</td>\n",
              "      <td>2.327966e+07</td>\n",
              "      <td>2.326918e+07</td>\n",
              "      <td>195037.274234</td>\n",
              "      <td>45991.106000</td>\n",
              "      <td>1.454197e+06</td>\n",
              "      <td>11.874057</td>\n",
              "      <td>149.389202</td>\n",
              "    </tr>\n",
              "    <tr>\n",
              "      <th>5</th>\n",
              "      <td>valor_em_investimentos</td>\n",
              "      <td>0.000000</td>\n",
              "      <td>1.000000e+04</td>\n",
              "      <td>1.000000e+04</td>\n",
              "      <td>611.999323</td>\n",
              "      <td>134.201478</td>\n",
              "      <td>2.002338e+03</td>\n",
              "      <td>4.436327</td>\n",
              "      <td>17.868001</td>\n",
              "    </tr>\n",
              "    <tr>\n",
              "      <th>6</th>\n",
              "      <td>taxa_utilizacao_credito</td>\n",
              "      <td>20.992914</td>\n",
              "      <td>4.956452e+01</td>\n",
              "      <td>2.857161e+01</td>\n",
              "      <td>32.270823</td>\n",
              "      <td>32.262649</td>\n",
              "      <td>5.105784e+00</td>\n",
              "      <td>0.042483</td>\n",
              "      <td>-0.915879</td>\n",
              "    </tr>\n",
              "    <tr>\n",
              "      <th>7</th>\n",
              "      <td>num_emprestimos</td>\n",
              "      <td>0.000000</td>\n",
              "      <td>1.496000e+03</td>\n",
              "      <td>1.496000e+03</td>\n",
              "      <td>10.863684</td>\n",
              "      <td>3.000000</td>\n",
              "      <td>6.255212e+01</td>\n",
              "      <td>16.366227</td>\n",
              "      <td>310.979754</td>\n",
              "    </tr>\n",
              "    <tr>\n",
              "      <th>8</th>\n",
              "      <td>num_contas_bancarias</td>\n",
              "      <td>0.000000</td>\n",
              "      <td>1.779000e+03</td>\n",
              "      <td>1.779000e+03</td>\n",
              "      <td>17.552316</td>\n",
              "      <td>6.000000</td>\n",
              "      <td>1.209738e+02</td>\n",
              "      <td>10.877721</td>\n",
              "      <td>123.218353</td>\n",
              "    </tr>\n",
              "    <tr>\n",
              "      <th>9</th>\n",
              "      <td>num_cartoes_credito</td>\n",
              "      <td>1.000000</td>\n",
              "      <td>1.479000e+03</td>\n",
              "      <td>1.478000e+03</td>\n",
              "      <td>21.433158</td>\n",
              "      <td>6.000000</td>\n",
              "      <td>1.226709e+02</td>\n",
              "      <td>8.564262</td>\n",
              "      <td>76.794957</td>\n",
              "    </tr>\n",
              "    <tr>\n",
              "      <th>10</th>\n",
              "      <td>dias_atraso_dt_venc</td>\n",
              "      <td>-5.000000</td>\n",
              "      <td>6.700000e+01</td>\n",
              "      <td>7.200000e+01</td>\n",
              "      <td>20.990316</td>\n",
              "      <td>18.000000</td>\n",
              "      <td>1.479983e+01</td>\n",
              "      <td>0.970164</td>\n",
              "      <td>0.371792</td>\n",
              "    </tr>\n",
              "    <tr>\n",
              "      <th>11</th>\n",
              "      <td>num_pgtos_atrasados</td>\n",
              "      <td>0.000000</td>\n",
              "      <td>4.388000e+03</td>\n",
              "      <td>4.388000e+03</td>\n",
              "      <td>29.832421</td>\n",
              "      <td>14.000000</td>\n",
              "      <td>2.226260e+02</td>\n",
              "      <td>14.835981</td>\n",
              "      <td>231.487222</td>\n",
              "    </tr>\n",
              "    <tr>\n",
              "      <th>12</th>\n",
              "      <td>num_consultas_credito</td>\n",
              "      <td>0.000000</td>\n",
              "      <td>2.589000e+03</td>\n",
              "      <td>2.589000e+03</td>\n",
              "      <td>24.937158</td>\n",
              "      <td>4.000000</td>\n",
              "      <td>1.837237e+02</td>\n",
              "      <td>10.242857</td>\n",
              "      <td>110.509369</td>\n",
              "    </tr>\n",
              "    <tr>\n",
              "      <th>13</th>\n",
              "      <td>taxa_juros</td>\n",
              "      <td>1.000000</td>\n",
              "      <td>5.788000e+03</td>\n",
              "      <td>5.787000e+03</td>\n",
              "      <td>66.618632</td>\n",
              "      <td>14.000000</td>\n",
              "      <td>4.400954e+02</td>\n",
              "      <td>9.609882</td>\n",
              "      <td>98.260223</td>\n",
              "    </tr>\n",
              "  </tbody>\n",
              "</table>\n",
              "</div>"
            ],
            "text/plain": [
              "                 attributes           min           max         range  \\\n",
              "0                id_cliente      1.000000  1.250000e+04  1.249900e+04   \n",
              "1                     idade     18.000000  8.598000e+03  8.580000e+03   \n",
              "2               saldo_atual      0.088628  1.602041e+03  1.601952e+03   \n",
              "3              divida_atual      0.230000  4.998070e+03  4.997840e+03   \n",
              "4               renda_anual  10473.865350  2.327966e+07  2.326918e+07   \n",
              "5    valor_em_investimentos      0.000000  1.000000e+04  1.000000e+04   \n",
              "6   taxa_utilizacao_credito     20.992914  4.956452e+01  2.857161e+01   \n",
              "7           num_emprestimos      0.000000  1.496000e+03  1.496000e+03   \n",
              "8      num_contas_bancarias      0.000000  1.779000e+03  1.779000e+03   \n",
              "9       num_cartoes_credito      1.000000  1.479000e+03  1.478000e+03   \n",
              "10      dias_atraso_dt_venc     -5.000000  6.700000e+01  7.200000e+01   \n",
              "11      num_pgtos_atrasados      0.000000  4.388000e+03  4.388000e+03   \n",
              "12    num_consultas_credito      0.000000  2.589000e+03  2.589000e+03   \n",
              "13               taxa_juros      1.000000  5.788000e+03  5.787000e+03   \n",
              "\n",
              "             mean        median           std       skew    kurtosis  \n",
              "0     6210.532947   6172.500000  3.603054e+03   0.014114   -1.199109  \n",
              "1      126.398421     38.000000  6.849999e+02   9.092579   87.613308  \n",
              "2      404.532032    337.169588  2.176853e+02   1.621743    3.104578  \n",
              "3     1437.086420   1175.730000  1.156202e+03   1.187913    0.848447  \n",
              "4   195037.274234  45991.106000  1.454197e+06  11.874057  149.389202  \n",
              "5      611.999323    134.201478  2.002338e+03   4.436327   17.868001  \n",
              "6       32.270823     32.262649  5.105784e+00   0.042483   -0.915879  \n",
              "7       10.863684      3.000000  6.255212e+01  16.366227  310.979754  \n",
              "8       17.552316      6.000000  1.209738e+02  10.877721  123.218353  \n",
              "9       21.433158      6.000000  1.226709e+02   8.564262   76.794957  \n",
              "10      20.990316     18.000000  1.479983e+01   0.970164    0.371792  \n",
              "11      29.832421     14.000000  2.226260e+02  14.835981  231.487222  \n",
              "12      24.937158      4.000000  1.837237e+02  10.242857  110.509369  \n",
              "13      66.618632     14.000000  4.400954e+02   9.609882   98.260223  "
            ]
          },
          "execution_count": 15,
          "metadata": {},
          "output_type": "execute_result"
        }
      ],
      "source": [
        "tendencia_central(num_attr)"
      ]
    },
    {
      "cell_type": "markdown",
      "metadata": {},
      "source": [
        "* **idade**: A idade média é 126, com um máximo de 8.598, indicando valores errados inflando a média. A idade mediana de 38 é mais representativa dos dados.\n",
        "* **saldo_atual**: O saldo atual varia de quase zero a 1.602, com uma média de 404,53, sugerindo que a maioria dos dados está agrupada na extremidade inferior.\n",
        "* **divida_atual**: A dívida atual tem uma média de 1.437,09 com uma dispersão considerável, como visto no desvio padrão de 1.156,26.\n",
        "* **renda_anual**: A renda anual média é muito alta, 195.037, devido a alguns valores muito altos (máximo de cerca de 23 milhões).\n",
        "* **valor_em_investimentos**: O valor médio em investimentos é de 611,99, mas atinge até 10.000, indicando possíveis outliers ou alta variabilidade nos comportamentos de investimento dos clientes.\n",
        "* **taxa_utilizacao_credito**: A taxa de utilização de crédito tem uma média de 32,27% com uma distribuição apertada, o que sugere que a maioria dos valores está agrupada em torno da média.\n",
        "* **num_emprestimos**: O número de empréstimos varia muito, sugerindo possíveis outliers ou erros de dados.\n",
        "* **num_contas_bancarias**: O número médio de contas bancárias está inflado em 17,55 devido a valores extremos até 1.779, indicando problemas de dados.\n",
        "* **num_cartoes_credito**: O número médio de cartões de crédito, como as contas bancárias, é distorcido por valores máximos elevados (1.479), com uma mediana de 6.\n",
        "* **dias_atraso_dt_venc**: Os dias de atraso na data de vencimento têm valores negativos (min -5), o que exige limpeza, pois dias de atraso não deveriam ser negativos.\n",
        "* **num_pgtos_atrasados**: O número de pagamentos atrasados é altamente enviesado, com valores extremos de até 4.388, o que parece improvável e pode ser um erro.\n",
        "* **num_consultas_credito**: As consultas de crédito mostram um padrão semelhante com possíveis problemas de qualidade de dados, dado o máximo de 2.589 contra uma mediana de 4.\n",
        "* **taxa_juros**: A taxa de juros parece geralmente razoável, mas inclui valores máximos improváveis (5.788), sugerindo erros."
      ]
    },
    {
      "cell_type": "markdown",
      "metadata": {
        "id": "iQUeQ7uz4Zxm"
      },
      "source": [
        "## 1.4.2 Atributos Categóricos"
      ]
    },
    {
      "cell_type": "code",
      "execution_count": 22,
      "metadata": {
        "colab": {
          "base_uri": "https://localhost:8080/"
        },
        "id": "jIO2lfxwqiHL",
        "outputId": "91c09ad5-4155-4068-e98e-7b6c7a87b394"
      },
      "outputs": [
        {
          "data": {
            "text/plain": [
              "investe_exterior\n",
              "Não    7177\n",
              "Sim    2323\n",
              "Name: count, dtype: int64"
            ]
          },
          "execution_count": 22,
          "metadata": {},
          "output_type": "execute_result"
        }
      ],
      "source": [
        "# Quantidade de itens diferentes por atributo.\n",
        "cat_attr.investe_exterior.value_counts()"
      ]
    },
    {
      "cell_type": "code",
      "execution_count": 23,
      "metadata": {},
      "outputs": [
        {
          "data": {
            "text/plain": [
              "pessoa_polit_exp\n",
              "Não    8917\n",
              "Sim     583\n",
              "Name: count, dtype: int64"
            ]
          },
          "execution_count": 23,
          "metadata": {},
          "output_type": "execute_result"
        }
      ],
      "source": [
        "cat_attr.pessoa_polit_exp.value_counts()"
      ]
    },
    {
      "cell_type": "code",
      "execution_count": 24,
      "metadata": {},
      "outputs": [
        {
          "data": {
            "text/plain": [
              "limite_adicional\n",
              "Negar       7995\n",
              "Conceder    1505\n",
              "Name: count, dtype: int64"
            ]
          },
          "execution_count": 24,
          "metadata": {},
          "output_type": "execute_result"
        }
      ],
      "source": [
        "cat_attr.limite_adicional.value_counts()"
      ]
    },
    {
      "cell_type": "markdown",
      "metadata": {
        "id": "Q9gKomkM4Z0D"
      },
      "source": [
        "# 2.0. Feature Engineering"
      ]
    },
    {
      "cell_type": "code",
      "execution_count": null,
      "metadata": {
        "id": "tqotokHTDVvH"
      },
      "outputs": [],
      "source": [
        "def feature_engeneering(df):\n",
        "    df = df.copy()\n",
        "    # idade\n",
        "    df['idade'] = df['idade'].apply(lambda x: x if x <= 101 else df['idade'].quantile(0.95))\n",
        "\n",
        "    # num_emprestimos\n",
        "    df['num_emprestimos'] = df['num_emprestimos'].apply(lambda x: x if x <= df['num_emprestimos'].quantile(0.95) else df['num_emprestimos'].quantile(0.95))\n",
        "\n",
        "    # num_contas_bancarias\n",
        "    df['num_contas_bancarias'] = df['num_contas_bancarias'].apply(lambda x: x if x <= df['num_contas_bancarias'].quantile(0.95) else df['num_contas_bancarias'].quantile(0.95))\n",
        "\n",
        "    # num_cartoes_credito\n",
        "    df['num_cartoes_credito'] = df['num_cartoes_credito'].apply(lambda x: x if x <= df['num_cartoes_credito'].quantile(0.95) else df['num_cartoes_credito'].quantile(0.95))\n",
        "\n",
        "    df['num_contas_bancarias'] = df['num_contas_bancarias'].apply(lambda x: x if x <= df['num_contas_bancarias'].quantile(0.95) else df['num_contas_bancarias'].quantile(0.99))\n",
        "    df['num_consultas_credito'] = df['num_consultas_credito'].apply(lambda x: x if x <= df['num_consultas_credito'].quantile(0.98) else df['num_consultas_credito'].quantile(0.99))\n",
        "    df['num_pgtos_atrasados'] = df['num_pgtos_atrasados'].apply(lambda x: x if x <= df['num_pgtos_atrasados'].quantile(0.99) else df['num_pgtos_atrasados'].quantile(0.99))\n",
        "    df['taxa_juros'] = df['taxa_juros'].apply(lambda x: x if x <= df['taxa_juros'].quantile(0.98) else df['taxa_juros'].quantile(0.98))\n",
        "\n",
        "    return df"
      ]
    },
    {
      "cell_type": "code",
      "execution_count": null,
      "metadata": {
        "id": "GkkHjCej2jYJ"
      },
      "outputs": [],
      "source": [
        "df2 = feature_engeneering(df1)\n",
        "df_validacao = feature_engeneering(df_validacao)"
      ]
    },
    {
      "cell_type": "code",
      "execution_count": null,
      "metadata": {
        "id": "OLuyq2mn8W70"
      },
      "outputs": [],
      "source": [
        "# sns.histplot(df2['taxa_juros'])"
      ]
    },
    {
      "cell_type": "code",
      "execution_count": null,
      "metadata": {
        "id": "1zf4NygLB3Zj"
      },
      "outputs": [],
      "source": [
        "# df2 = df_temp.copy()"
      ]
    },
    {
      "cell_type": "code",
      "execution_count": null,
      "metadata": {
        "id": "CV-yOlPh8T1d"
      },
      "outputs": [],
      "source": [
        "# # df_temp = df2.copy()\n",
        "# df2['taxa_juros'] = df2['taxa_juros'].apply(lambda x: 0 if x <= 5\n",
        "#                                                else 2 if x <= 10\n",
        "#                                                else 3 if x <= 15\n",
        "#                                                else 4 if x <= 20\n",
        "#                                                else 5 if x <= 25\n",
        "#                                                else 6 if x <= 30\n",
        "#                                                else 7 if x <= 35\n",
        "#                                                else 8 if x <= 100\n",
        "#                                                else 9)\n",
        "# sns.boxplot(data=df2, x='taxa_juros', y='limite_adicional')"
      ]
    },
    {
      "cell_type": "code",
      "execution_count": null,
      "metadata": {
        "id": "cXDC4wFDFnZn"
      },
      "outputs": [],
      "source": [
        "# df2['num_cartoes_credito'].describe()\n",
        "# df2['num_cartoes_credito'][df2['num_cartoes_credito'] > 50]\n",
        "# df2['num_cartoes_credito'].quantile(0.95)"
      ]
    },
    {
      "cell_type": "markdown",
      "metadata": {
        "id": "mBOrMVxl4Z8t"
      },
      "source": [
        "## 3.0. Filtragem dos Dados"
      ]
    },
    {
      "cell_type": "code",
      "execution_count": null,
      "metadata": {
        "id": "L4Cin6N89NyM"
      },
      "outputs": [],
      "source": [
        "df3 = df2.copy()"
      ]
    },
    {
      "cell_type": "markdown",
      "metadata": {
        "id": "QE5N0bx841DJ"
      },
      "source": [
        "## 3.1. Filtragem das Linhas"
      ]
    },
    {
      "cell_type": "markdown",
      "metadata": {
        "id": "uO6IsxPa_XMY"
      },
      "source": [
        "VER:\n",
        "- idade\n",
        "- renda_anual\n",
        "- num_emprestimos\n",
        "- num_contas_bancarias\n",
        "- num_cartoes_credito\n",
        "- num_emprestimos\n",
        "- num_pgtos_atrasados\n",
        "- num_consultas_credito"
      ]
    },
    {
      "cell_type": "code",
      "execution_count": null,
      "metadata": {
        "colab": {
          "base_uri": "https://localhost:8080/"
        },
        "id": "v0SM5zohx4h4",
        "outputId": "7704fc57-3714-47d1-999b-9ad01237b313"
      },
      "outputs": [
        {
          "data": {
            "text/plain": [
              "Index(['id_cliente', 'idade', 'saldo_atual', 'divida_atual', 'renda_anual',\n",
              "       'valor_em_investimentos', 'taxa_utilizacao_credito', 'num_emprestimos',\n",
              "       'num_contas_bancarias', 'num_cartoes_credito', 'dias_atraso_dt_venc',\n",
              "       'num_pgtos_atrasados', 'num_consultas_credito', 'taxa_juros'],\n",
              "      dtype='object')"
            ]
          },
          "execution_count": 750,
          "metadata": {},
          "output_type": "execute_result"
        }
      ],
      "source": [
        "num_attr.columns"
      ]
    },
    {
      "cell_type": "markdown",
      "metadata": {
        "id": "LKAVwnNN41Fl"
      },
      "source": [
        "## 3.2. Selecao das Colunas"
      ]
    },
    {
      "cell_type": "code",
      "execution_count": null,
      "metadata": {
        "id": "jyHCkBEwHHBs"
      },
      "outputs": [],
      "source": [
        "fetures_manuais = [\n",
        "    'idade',\n",
        "    'saldo_atual',\n",
        "    'divida_atual',\n",
        "    'renda_anual',\n",
        "    'dias_atraso_dt_venc',\n",
        "    'num_pgtos_atrasados']"
      ]
    },
    {
      "cell_type": "code",
      "execution_count": null,
      "metadata": {
        "id": "QV0JLI2xHIgY"
      },
      "outputs": [],
      "source": [
        "# [\n",
        "#     'idade',\n",
        "#     'saldo_atual',\n",
        "#     'divida_atual',\n",
        "#     'renda_anual',\n",
        "#     'dias_atraso_dt_venc',\n",
        "#     'num_pgtos_atrasados',\n",
        " \n",
        "# 'valor_em_investimentos',\n",
        "# 'taxa_utilizacao_credito',\n",
        "# 'num_emprestimos',\n",
        "# 'num_contas_bancarias', \n",
        "# 'num_cartoes_credito',\n",
        "# 'num_consultas_credito',\n",
        "# 'taxa_juros',\n",
        "# 'investe_exterior',\n",
        "# 'pessoa_polit_exp', \n",
        "# 'limite_adicional']"
      ]
    },
    {
      "cell_type": "markdown",
      "metadata": {
        "id": "V5crEQvg41H_"
      },
      "source": [
        "# 4.0. Análise Exploratória dos Dados - EDA"
      ]
    },
    {
      "cell_type": "code",
      "execution_count": null,
      "metadata": {
        "id": "DNSxA3M29SJ9"
      },
      "outputs": [],
      "source": [
        "df4 = df3.copy()\n",
        "# df4 = df_raw.copy()"
      ]
    },
    {
      "cell_type": "code",
      "execution_count": null,
      "metadata": {
        "colab": {
          "base_uri": "https://localhost:8080/",
          "height": 559
        },
        "id": "zPl-rPPEH0va",
        "outputId": "1822aa84-d434-4b17-c848-6c418c91e468"
      },
      "outputs": [
        {
          "data": {
            "text/plain": [
              "<matplotlib.axes._subplots.AxesSubplot at 0x7fb32999d250>"
            ]
          },
          "execution_count": 754,
          "metadata": {},
          "output_type": "execute_result"
        },
        {
          "data": {
            "image/png": "[encoded data removed]",
            "text/plain": [
              "<Figure size 1500x600 with 1 Axes>"
            ]
          },
          "metadata": {},
          "output_type": "display_data"
        }
      ],
      "source": [
        "sns.boxplot(data=df4, x='num_emprestimos', y='limite_adicional')"
      ]
    },
    {
      "cell_type": "code",
      "execution_count": null,
      "metadata": {
        "colab": {
          "base_uri": "https://localhost:8080/",
          "height": 558
        },
        "id": "gt3qLPUDICz2",
        "outputId": "b57f7969-a3b3-4b6d-bc84-89da0d1b3b35"
      },
      "outputs": [
        {
          "data": {
            "text/plain": [
              "<matplotlib.axes._subplots.AxesSubplot at 0x7fb320512150>"
            ]
          },
          "execution_count": 755,
          "metadata": {},
          "output_type": "execute_result"
        },
        {
          "data": {
            "image/png": "[encoded data removed]",
            "text/plain": [
              "<Figure size 1500x600 with 1 Axes>"
            ]
          },
          "metadata": {},
          "output_type": "display_data"
        }
      ],
      "source": [
        "sns.boxplot(data=df4[['idade','limite_adicional']], x='idade', y='limite_adicional')"
      ]
    },
    {
      "cell_type": "code",
      "execution_count": null,
      "metadata": {
        "id": "lxPSZ2flH05t"
      },
      "outputs": [],
      "source": []
    },
    {
      "cell_type": "code",
      "execution_count": null,
      "metadata": {
        "id": "keOlAiQTH08l"
      },
      "outputs": [],
      "source": []
    },
    {
      "cell_type": "code",
      "execution_count": null,
      "metadata": {
        "id": "Rz4ZczsEH1Ae"
      },
      "outputs": [],
      "source": []
    },
    {
      "cell_type": "markdown",
      "metadata": {
        "id": "E0F_l13R41O-"
      },
      "source": [
        "## 4.1. Analise Univariada"
      ]
    },
    {
      "cell_type": "markdown",
      "metadata": {
        "id": "dzyAqI_X4Z_H"
      },
      "source": [
        "### 4.1.1.Variável Resposta"
      ]
    },
    {
      "cell_type": "markdown",
      "metadata": {
        "id": "uyK4SfnMOeLu"
      },
      "source": [
        "### 4.1.2. Sweetviz"
      ]
    },
    {
      "cell_type": "code",
      "execution_count": null,
      "metadata": {
        "id": "iDf8Fr2WsPzj"
      },
      "outputs": [],
      "source": [
        "import sweetviz as sv"
      ]
    },
    {
      "cell_type": "code",
      "execution_count": null,
      "metadata": {
        "id": "C6BDwc2vsP3c"
      },
      "outputs": [],
      "source": [
        "feature_viz = ['idade', 'saldo_atual', 'divida_atual', 'renda_anual',\n",
        "       'valor_em_investimentos', 'taxa_utilizacao_credito', 'num_emprestimos',\n",
        "       'num_contas_bancarias', 'num_cartoes_credito', 'dias_atraso_dt_venc',\n",
        "       'num_pgtos_atrasados', 'num_consultas_credito', 'taxa_juros',\n",
        "       'investe_exterior', 'pessoa_polit_exp', 'limite_adicional']"
      ]
    },
    {
      "cell_type": "code",
      "execution_count": null,
      "metadata": {
        "colab": {
          "base_uri": "https://localhost:8080/"
        },
        "id": "GFqxPjJfFVw8",
        "outputId": "6c3cb97e-53d7-48f0-d49e-c2e70fc45ee3"
      },
      "outputs": [
        {
          "data": {
            "text/plain": [
              "count   9500.00\n",
              "mean      14.94\n",
              "std        9.02\n",
              "min        1.00\n",
              "25%        8.00\n",
              "50%       14.00\n",
              "75%       20.00\n",
              "max       34.00\n",
              "Name: taxa_juros, dtype: float64"
            ]
          },
          "execution_count": 758,
          "metadata": {},
          "output_type": "execute_result"
        }
      ],
      "source": [
        "df4['taxa_juros'].describe()"
      ]
    },
    {
      "cell_type": "code",
      "execution_count": null,
      "metadata": {
        "colab": {
          "base_uri": "https://localhost:8080/",
          "height": 803,
          "referenced_widgets": [
            "4285899875084da3a13efefdad212cee",
            "41363880cfc9456fbe1e40efc3129a79",
            "ebec506b92cf4e3dbd33851fa8284e06",
            "5aed39aead844d55b074d78fcb58f11d",
            "df6c1841446348cb9d62d476dcfb09f1",
            "163d91bd2b83426ba6bdec34b0b93bae",
            "49ab8216c4b84a18bcc7b6fc25d23d93",
            "5e892045e9e84ffe990d0aa0ad4ed0fe",
            "bb232737e4ea412094d8c595ed230dff",
            "ab1ba5e6e4754f089632bdaa5a4ce865",
            "7e8cefdbcecb4f23b631315134fff2bd"
          ]
        },
        "id": "EmU8O9BqseOU",
        "outputId": "1f56d349-343b-4203-9293-94b8f637a00b"
      },
      "outputs": [],
      "source": [
        "df_viz = df4.copy()\n",
        "df_modelo = df_raw.copy()\n",
        "\n",
        "df_modelo['num_emprestimos'] = df_modelo['num_emprestimos'].apply(lambda x: x if x <= df_modelo['num_emprestimos'].quantile(0.95) else df_modelo['num_emprestimos'].quantile(0.95))\n",
        "df_modelo['num_cartoes_credito'] = df_modelo['num_cartoes_credito'].apply(lambda x: x if x <= df_modelo['num_cartoes_credito'].quantile(0.95) else df_modelo['num_cartoes_credito'].quantile(0.95))\n",
        "\n",
        "limite_adicional = {'Negar':0, 'Conceder':1}\n",
        "df_modelo['limite_adicional'] = df_modelo['limite_adicional'].map(limite_adicional)\n",
        "\n",
        "report = sv.analyze(source = df_modelo[feature_viz], target_feat = 'limite_adicional')\n",
        "report.show_notebook()\n",
        "# report.show_html()"
      ]
    },
    {
      "cell_type": "markdown",
      "metadata": {
        "id": "3hYpqij65Lpp"
      },
      "source": [
        "### 4.1.2. Variável Numérica"
      ]
    },
    {
      "cell_type": "code",
      "execution_count": null,
      "metadata": {
        "id": "uhJ3vTcLNyco"
      },
      "outputs": [],
      "source": [
        "# num_attr = df2.select_dtypes(include=['int64', 'int32', 'float64'])\n",
        "# num_attr.describe().T"
      ]
    },
    {
      "cell_type": "markdown",
      "metadata": {
        "id": "2OgBeKEN5Lse"
      },
      "source": [
        "### 4.1.3. Variável Categórica"
      ]
    },
    {
      "cell_type": "code",
      "execution_count": null,
      "metadata": {
        "id": "Ufq3TyIZBpPS"
      },
      "outputs": [],
      "source": []
    },
    {
      "cell_type": "markdown",
      "metadata": {
        "id": "7im2XZtd5Lww"
      },
      "source": [
        "## 4.2. Analise Bivariada"
      ]
    },
    {
      "cell_type": "markdown",
      "metadata": {
        "id": "1jEM0WI65Ly9"
      },
      "source": [
        "## 4.3. Analise Multivariada"
      ]
    },
    {
      "cell_type": "markdown",
      "metadata": {
        "id": "K3puZ5k25L1Q"
      },
      "source": [
        "### 4.3.1. Atributos Numéricos"
      ]
    },
    {
      "cell_type": "markdown",
      "metadata": {
        "id": "RK1ZAu_w5L3e"
      },
      "source": []
    },
    {
      "cell_type": "markdown",
      "metadata": {
        "id": "6H5v5iOY5L5r"
      },
      "source": [
        "### 4.3.2. Atributos Categóricos"
      ]
    },
    {
      "cell_type": "markdown",
      "metadata": {
        "id": "o6BotNaC5L7q"
      },
      "source": [
        "# 5.0. Preparação dos Dados"
      ]
    },
    {
      "cell_type": "code",
      "execution_count": null,
      "metadata": {
        "id": "FWj_S4Uh9X7I"
      },
      "outputs": [],
      "source": [
        "df5 = df4.copy()"
      ]
    },
    {
      "cell_type": "markdown",
      "metadata": {
        "id": "FzxbToAq5L9v"
      },
      "source": [
        "## 5.1. Normalização"
      ]
    },
    {
      "cell_type": "code",
      "execution_count": null,
      "metadata": {
        "id": "S80_aaTSAlsn"
      },
      "outputs": [],
      "source": []
    },
    {
      "cell_type": "code",
      "execution_count": null,
      "metadata": {
        "id": "RLyq56DtAyQH"
      },
      "outputs": [],
      "source": []
    },
    {
      "cell_type": "markdown",
      "metadata": {
        "id": "mAeBbHOF5qus"
      },
      "source": [
        "## 5.2. Rescaling"
      ]
    },
    {
      "cell_type": "markdown",
      "metadata": {
        "id": "6jD9TYRh5qxe"
      },
      "source": [
        "## 5.3. Transformação"
      ]
    },
    {
      "cell_type": "markdown",
      "metadata": {
        "id": "cWJJxc2rgwR7"
      },
      "source": [
        "### 5.3.1. Encoding"
      ]
    },
    {
      "cell_type": "code",
      "execution_count": null,
      "metadata": {
        "id": "D0IzOR1lCY9G"
      },
      "outputs": [],
      "source": [
        "cat_transformer = Pipeline(steps=[\n",
        "    ('one-hot encoder', OneHotEncoder())\n",
        "])"
      ]
    },
    {
      "cell_type": "markdown",
      "metadata": {
        "id": "GOmNmMJ8mUsO"
      },
      "source": [
        "### 5.3.2. Transformações de Natureza"
      ]
    },
    {
      "cell_type": "markdown",
      "metadata": {
        "id": "iaHl094OC93n"
      },
      "source": [
        "## 5.4. Preprocessamento pipeline"
      ]
    },
    {
      "cell_type": "code",
      "execution_count": null,
      "metadata": {
        "colab": {
          "base_uri": "https://localhost:8080/",
          "height": 206
        },
        "id": "Kn8URvDjDywN",
        "outputId": "02196eb7-49bb-4419-a24e-e4f2eb6dbe84"
      },
      "outputs": [
        {
          "data": {
            "text/html": [
              "\n",
              "  <div id=\"df-dd994eda-b74c-4cb3-8f32-18b309d4f04a\">\n",
              "    <div class=\"colab-df-container\">\n",
              "      <div>\n",
              "<style scoped>\n",
              "    .dataframe tbody tr th:only-of-type {\n",
              "        vertical-align: middle;\n",
              "    }\n",
              "\n",
              "    .dataframe tbody tr th {\n",
              "        vertical-align: top;\n",
              "    }\n",
              "\n",
              "    .dataframe thead th {\n",
              "        text-align: right;\n",
              "    }\n",
              "</style>\n",
              "<table border=\"1\" class=\"dataframe\">\n",
              "  <thead>\n",
              "    <tr style=\"text-align: right;\">\n",
              "      <th></th>\n",
              "      <th>investe_exterior</th>\n",
              "      <th>pessoa_polit_exp</th>\n",
              "      <th>limite_adicional</th>\n",
              "    </tr>\n",
              "  </thead>\n",
              "  <tbody>\n",
              "    <tr>\n",
              "      <th>0</th>\n",
              "      <td>Não</td>\n",
              "      <td>Não</td>\n",
              "      <td>Negar</td>\n",
              "    </tr>\n",
              "    <tr>\n",
              "      <th>1</th>\n",
              "      <td>Não</td>\n",
              "      <td>Não</td>\n",
              "      <td>Negar</td>\n",
              "    </tr>\n",
              "    <tr>\n",
              "      <th>2</th>\n",
              "      <td>Sim</td>\n",
              "      <td>Não</td>\n",
              "      <td>Negar</td>\n",
              "    </tr>\n",
              "    <tr>\n",
              "      <th>3</th>\n",
              "      <td>Sim</td>\n",
              "      <td>Não</td>\n",
              "      <td>Negar</td>\n",
              "    </tr>\n",
              "    <tr>\n",
              "      <th>4</th>\n",
              "      <td>Sim</td>\n",
              "      <td>Não</td>\n",
              "      <td>Negar</td>\n",
              "    </tr>\n",
              "  </tbody>\n",
              "</table>\n",
              "</div>\n",
              "      <button class=\"colab-df-convert\" onclick=\"convertToInteractive('df-dd994eda-b74c-4cb3-8f32-18b309d4f04a')\"\n",
              "              title=\"Convert this dataframe to an interactive table.\"\n",
              "              style=\"display:none;\">\n",
              "        \n",
              "  <svg xmlns=\"http://www.w3.org/2000/svg\" height=\"24px\"viewBox=\"0 0 24 24\"\n",
              "       width=\"24px\">\n",
              "    <path d=\"M0 0h24v24H0V0z\" fill=\"none\"/>\n",
              "    <path d=\"M18.56 5.44l.94 2.06.94-2.06 2.06-.94-2.06-.94-.94-2.06-.94 2.06-2.06.94zm-11 1L8.5 8.5l.94-2.06 2.06-.94-2.06-.94L8.5 2.5l-.94 2.06-2.06.94zm10 10l.94 2.06.94-2.06 2.06-.94-2.06-.94-.94-2.06-.94 2.06-2.06.94z\"/><path d=\"M17.41 7.96l-1.37-1.37c-.4-.4-.92-.59-1.43-.59-.52 0-1.04.2-1.43.59L10.3 9.45l-7.72 7.72c-.78.78-.78 2.05 0 2.83L4 21.41c.39.39.9.59 1.41.59.51 0 1.02-.2 1.41-.59l7.78-7.78 2.81-2.81c.8-.78.8-2.07 0-2.86zM5.41 20L4 18.59l7.72-7.72 1.47 1.35L5.41 20z\"/>\n",
              "  </svg>\n",
              "      </button>\n",
              "      \n",
              "  <style>\n",
              "    .colab-df-container {\n",
              "      display:flex;\n",
              "      flex-wrap:wrap;\n",
              "      gap: 12px;\n",
              "    }\n",
              "\n",
              "    .colab-df-convert {\n",
              "      background-color: #E8F0FE;\n",
              "      border: none;\n",
              "      border-radius: 50%;\n",
              "      cursor: pointer;\n",
              "      display: none;\n",
              "      fill: #1967D2;\n",
              "      height: 32px;\n",
              "      padding: 0 0 0 0;\n",
              "      width: 32px;\n",
              "    }\n",
              "\n",
              "    .colab-df-convert:hover {\n",
              "      background-color: #E2EBFA;\n",
              "      box-shadow: 0px 1px 2px rgba(60, 64, 67, 0.3), 0px 1px 3px 1px rgba(60, 64, 67, 0.15);\n",
              "      fill: #174EA6;\n",
              "    }\n",
              "\n",
              "    [theme=dark] .colab-df-convert {\n",
              "      background-color: #3B4455;\n",
              "      fill: #D2E3FC;\n",
              "    }\n",
              "\n",
              "    [theme=dark] .colab-df-convert:hover {\n",
              "      background-color: #434B5C;\n",
              "      box-shadow: 0px 1px 3px 1px rgba(0, 0, 0, 0.15);\n",
              "      filter: drop-shadow(0px 1px 2px rgba(0, 0, 0, 0.3));\n",
              "      fill: #FFFFFF;\n",
              "    }\n",
              "  </style>\n",
              "\n",
              "      <script>\n",
              "        const buttonEl =\n",
              "          document.querySelector('#df-dd994eda-b74c-4cb3-8f32-18b309d4f04a button.colab-df-convert');\n",
              "        buttonEl.style.display =\n",
              "          google.colab.kernel.accessAllowed ? 'block' : 'none';\n",
              "\n",
              "        async function convertToInteractive(key) {\n",
              "          const element = document.querySelector('#df-dd994eda-b74c-4cb3-8f32-18b309d4f04a');\n",
              "          const dataTable =\n",
              "            await google.colab.kernel.invokeFunction('convertToInteractive',\n",
              "                                                     [key], {});\n",
              "          if (!dataTable) return;\n",
              "\n",
              "          const docLinkHtml = 'Like what you see? Visit the ' +\n",
              "            '<a target=\"_blank\" href=https://colab.research.google.com/notebooks/data_table.ipynb>data table notebook</a>'\n",
              "            + ' to learn more about interactive tables.';\n",
              "          element.innerHTML = '';\n",
              "          dataTable['output_type'] = 'display_data';\n",
              "          await google.colab.output.renderOutput(dataTable, element);\n",
              "          const docLink = document.createElement('div');\n",
              "          docLink.innerHTML = docLinkHtml;\n",
              "          element.appendChild(docLink);\n",
              "        }\n",
              "      </script>\n",
              "    </div>\n",
              "  </div>\n",
              "  "
            ],
            "text/plain": [
              "  investe_exterior pessoa_polit_exp limite_adicional\n",
              "0              Não              Não            Negar\n",
              "1              Não              Não            Negar\n",
              "2              Sim              Não            Negar\n",
              "3              Sim              Não            Negar\n",
              "4              Sim              Não            Negar"
            ]
          },
          "execution_count": 763,
          "metadata": {},
          "output_type": "execute_result"
        }
      ],
      "source": [
        "cat_attr.head()"
      ]
    },
    {
      "cell_type": "code",
      "execution_count": null,
      "metadata": {
        "id": "ATGTmdhUDBzE"
      },
      "outputs": [],
      "source": [
        "preprocessor = ColumnTransformer(transformers=[\n",
        "    # ('num', num_transformer, ['Age', 'Fare']),\n",
        "    ('cat', cat_transformer, ['investe_exterior', 'pessoa_polit_exp'])\n",
        "])"
      ]
    },
    {
      "cell_type": "markdown",
      "metadata": {
        "id": "YpNn5cS6JwNh"
      },
      "source": [
        "Estrutura do Pipeline"
      ]
    },
    {
      "cell_type": "code",
      "execution_count": null,
      "metadata": {
        "id": "gP2tiNXiJ0hs"
      },
      "outputs": [],
      "source": [
        "# set up preprocessing for numeric columns\n",
        "imp_median = SimpleImputer(strategy='median', add_indicator=True)\n",
        "scaler = StandardScaler()\n",
        "\n",
        "# set up preprocessing for categorical columns\n",
        "imp_constant = SimpleImputer(strategy='constant')\n",
        "ohe = OneHotEncoder(handle_unknown='ignore')\n",
        "\n",
        "# select columns by data type\n",
        "num_cols = make_column_selector(dtype_include='number')\n",
        "cat_cols = make_column_selector(dtype_exclude='number')\n",
        "\n",
        "# do all preprocessing\n",
        "preprocessor = make_column_transformer(\n",
        "    (make_pipeline(imp_median, scaler), num_cols),\n",
        "    (make_pipeline(imp_constant, ohe), cat_cols))"
      ]
    },
    {
      "cell_type": "markdown",
      "metadata": {
        "id": "EWqjVLy45q0M"
      },
      "source": [
        "# 6.0. Feature Selection"
      ]
    },
    {
      "cell_type": "code",
      "execution_count": null,
      "metadata": {
        "id": "za_Cm7OK9buB"
      },
      "outputs": [],
      "source": [
        "df6 = df5.copy()"
      ]
    },
    {
      "cell_type": "code",
      "execution_count": null,
      "metadata": {
        "id": "19519pRm2JCE"
      },
      "outputs": [],
      "source": [
        "# X_train1 = df6.drop(columns=['limite_adicional', 'id_cliente'], axis=1)\n",
        "# y_train1 = df6['limite_adicional']"
      ]
    },
    {
      "cell_type": "markdown",
      "metadata": {
        "id": "P7g2b3LR5q38"
      },
      "source": [
        "## 6.1. Boruta as feature selector"
      ]
    },
    {
      "cell_type": "code",
      "execution_count": null,
      "metadata": {
        "id": "l7uU6jKZ2xtU"
      },
      "outputs": [],
      "source": [
        "# model_boruta = Pipeline(steps=[\n",
        "#     ('preprocessor', preprocessor),\n",
        "#     ('boruta', BorutaPy(\n",
        "#             estimator=RandomForestClassifier(n_jobs=-1),\n",
        "#             n_estimators='auto',\n",
        "#             # verbose=2,\n",
        "#             random_state=42\n",
        "#         ))\n",
        "#     ])\n",
        "\n",
        "# # treinando o modelo\n",
        "# boruta = model_boruta.fit(X_train1, y_train1)"
      ]
    },
    {
      "cell_type": "code",
      "execution_count": null,
      "metadata": {
        "id": "2-EnIK5vEHxx"
      },
      "outputs": [],
      "source": [
        "# boruta_cols = boruta[1].support_.tolist()\n",
        "# boruta_ranking = boruta[1].ranking_\n",
        "\n",
        "# print(len(boruta_cols))\n",
        "# print(len(boruta_ranking))\n",
        "\n",
        "# # # Features selecionadas\n",
        "# # boruta_cols = boruta.support_.tolist()\n",
        "# # boruta_cols\n"
      ]
    },
    {
      "cell_type": "code",
      "execution_count": null,
      "metadata": {
        "id": "H17EeyRFYI_Z"
      },
      "outputs": [],
      "source": [
        "# len(model_boruta[1].support_)\n",
        "# # len(X_train1.columns)"
      ]
    },
    {
      "cell_type": "code",
      "execution_count": null,
      "metadata": {
        "id": "mmtUAwSwX9TH"
      },
      "outputs": [],
      "source": [
        "# features_boruta = pd.DataFrame({'Feature':list(X_train1.columns),\n",
        "#                                       'Ranking':list(boruta_ranking)})\n",
        "# features_boruta.sort_values(by='Ranking')"
      ]
    },
    {
      "cell_type": "code",
      "execution_count": null,
      "metadata": {
        "id": "LaFRbSkoU3e_"
      },
      "outputs": [],
      "source": [
        "# from sklearn.pipeline import Pipeline\n",
        "# from sklearn.svm import LinearSVC\n",
        "# from sklearn.ensemble import ExtraTreesClassifier\n",
        "# from sklearn.feature_selection import SelectKBest, chi2, SelectFromModel\n",
        "\n",
        "# classifier_1 = Pipeline([('skb', SelectKBest(chi2, k = 10)),\n",
        "#                        ('etc', ExtraTreesClassifier())])\n",
        "# classifier_2 = Pipeline([('lsvc', SelectFromModel(LinearSVC())),\n",
        "#                       ('etc', ExtraTreesClassifier())])\n",
        "\n",
        "# from sklearn.model_selection import GridSearchCV\n",
        "# clf_1 = GridSearchCV(classifier_1, {'skb__k' : [10, 20, 30]})\n",
        "# clf_2 = GridSearchCV(classifier_2, {'lsvc__estimator__loss' : ['hinge', 'squared_hinge']})\n"
      ]
    },
    {
      "cell_type": "code",
      "execution_count": null,
      "metadata": {
        "id": "OFFaNS5i2yUB"
      },
      "outputs": [],
      "source": []
    },
    {
      "cell_type": "markdown",
      "metadata": {
        "id": "pJV7pLtqjEhV"
      },
      "source": [
        "## Seletor feature pipeline"
      ]
    },
    {
      "cell_type": "code",
      "execution_count": null,
      "metadata": {
        "id": "0bY1HotSjICF"
      },
      "outputs": [],
      "source": [
        "# from sklearn.feature_selection import SelectKBest"
      ]
    },
    {
      "cell_type": "code",
      "execution_count": null,
      "metadata": {
        "id": "7m-4M1-1jZDP"
      },
      "outputs": [],
      "source": [
        "# percent = 0.6\n",
        "# nb_features = round(percent * X_train1.shape[1]) + 1\n",
        "# print('features', nb_features)\n",
        "\n",
        "# model_gb = Pipeline(steps=[\n",
        "#     ('preprocessor', preprocessor),\n",
        "#     ('features_selection', SelectKBest(k=nb_features)),\n",
        "#     ('GradientBoosting', GradientBoostingClassifier(random_state=42))\n",
        "# ])\n",
        "\n",
        "# # treinando o modelo\n",
        "# # model_gb.fit(X_train1, y_train1)\n",
        "\n",
        "# validacao_cruzada = KFold(n_splits=10, shuffle=True, random_state=42)\n",
        "# scores = cross_val_score(model_gb, X_train1, y_train1, cv=10)\n",
        "\n",
        "# print(scores.mean())\n",
        "# print(scores)"
      ]
    },
    {
      "cell_type": "code",
      "execution_count": null,
      "metadata": {
        "id": "Er02E1Ijj8k5"
      },
      "outputs": [],
      "source": [
        "# print(scores.mean())\n",
        "# print(scores)"
      ]
    },
    {
      "cell_type": "code",
      "execution_count": null,
      "metadata": {
        "id": "d8atlzhSlG1v"
      },
      "outputs": [],
      "source": [
        "# model_gb[1].get_params().items()\n",
        "# print(model_gb[1].get_support())\n",
        "\n",
        "# selector = model_gb[1]\n",
        "# #X_train1.columns[best]\n",
        "# # X_train1.columns[selector.get_support(indices=True)].tolist()"
      ]
    },
    {
      "cell_type": "code",
      "execution_count": null,
      "metadata": {
        "id": "dtAHdt8wmtd2"
      },
      "outputs": [],
      "source": [
        "# from sklearn.datasets import load_iris\n",
        "# from sklearn.feature_selection import SelectKBest\n",
        "# from sklearn.feature_selection import chi2\n",
        "# import pandas as pd\n",
        "\n",
        "# iris = load_iris()\n",
        "# X = pd.DataFrame(iris.data, columns=iris.feature_names)\n",
        "# y = pd.DataFrame(iris.target)\n",
        "\n",
        "# selector = SelectKBest(chi2, k=3)\n",
        "# selector.fit(X, y)\n",
        "\n",
        "# X_new = selector.transform(X)\n",
        "# print(X_new.shape)\n",
        "\n",
        "# X.columns[selector.get_support(indices=True)]\n",
        "\n",
        "# # 1st way to get the list\n",
        "# vector_names = list(X.columns[selector.get_support(indices=True)])\n",
        "# print(vector_names)\n",
        "\n",
        "# #2nd way\n",
        "# X.columns[selector.get_support(indices=True)].tolist()"
      ]
    },
    {
      "cell_type": "markdown",
      "metadata": {
        "id": "FbFoEZMz6fxA"
      },
      "source": [
        "## 6.2.  Manual Feature Selection"
      ]
    },
    {
      "cell_type": "code",
      "execution_count": null,
      "metadata": {
        "id": "M2GXvJNVIYWV"
      },
      "outputs": [],
      "source": [
        "features = ['idade', \n",
        "            'saldo_atual', \n",
        "            'divida_atual', \n",
        "            'renda_anual',\n",
        "            'valor_em_investimentos', \n",
        "            'taxa_utilizacao_credito', \n",
        "            'num_emprestimos',\n",
        "            'num_contas_bancarias', \n",
        "            'num_cartoes_credito', \n",
        "            'dias_atraso_dt_venc',\n",
        "            'num_pgtos_atrasados', \n",
        "            'num_consultas_credito', \n",
        "            'taxa_juros',\n",
        "            'investe_exterior', \n",
        "            'pessoa_polit_exp'\n",
        "            ]"
      ]
    },
    {
      "cell_type": "markdown",
      "metadata": {
        "id": "BGrB_w_94tMt"
      },
      "source": [
        "# Validação VISUAL"
      ]
    },
    {
      "cell_type": "code",
      "execution_count": null,
      "metadata": {
        "colab": {
          "base_uri": "https://localhost:8080/",
          "height": 1000
        },
        "id": "wZGGXWjNc-Je",
        "outputId": "a31e0eca-d5f3-43e9-c203-1b95e0ec27e7"
      },
      "outputs": [
        {
          "data": {
            "image/png": "[encoded data removed]",
            "text/plain": [
              "<Figure size 1500x1500 with 2 Axes>"
            ]
          },
          "metadata": {},
          "output_type": "display_data"
        }
      ],
      "source": [
        "plt.figure(figsize=(15,15))\n",
        "sns.heatmap(df_raw[features + ['limite_adicional']].corr(method='pearson'), annot=True);"
      ]
    },
    {
      "cell_type": "markdown",
      "metadata": {
        "id": "dX9EPc556fzm"
      },
      "source": [
        "# 7.0. Modelos Machine Learning"
      ]
    },
    {
      "cell_type": "code",
      "execution_count": null,
      "metadata": {
        "id": "PsHPAv3P9mzo"
      },
      "outputs": [],
      "source": [
        "df7 = df6.copy()"
      ]
    },
    {
      "cell_type": "code",
      "execution_count": null,
      "metadata": {
        "id": "DGBc3yPcIodS"
      },
      "outputs": [],
      "source": [
        "AMBIENTE_DEV = False"
      ]
    },
    {
      "cell_type": "code",
      "execution_count": null,
      "metadata": {
        "id": "VH_AH0MZDVsd"
      },
      "outputs": [],
      "source": [
        "if AMBIENTE_DEV:\n",
        "    X_train, X_test, y_train, y_test = train_test_split(df7[features], \n",
        "                                                        df7['limite_adicional'], \n",
        "                                                        test_size=0.2, \n",
        "                                                        random_state=42)"
      ]
    },
    {
      "cell_type": "code",
      "execution_count": null,
      "metadata": {
        "id": "k7pDu9gj0IhH"
      },
      "outputs": [],
      "source": [
        "if not AMBIENTE_DEV:\n",
        "    # X_train = df7[features]\n",
        "    # y_train = df7['limite_adicional']\n",
        "    X_train = df_raw[features]\n",
        "    y_train = df_raw['limite_adicional']"
      ]
    },
    {
      "cell_type": "code",
      "execution_count": null,
      "metadata": {
        "id": "wWJeFCapQqTb"
      },
      "outputs": [],
      "source": [
        "# Encodar var resposta de treino\n",
        "lim_adi_dict = {'Negar':0, 'Conceder':1}\n",
        "y_train = y_train.map(lim_adi_dict)\n",
        "\n",
        "if AMBIENTE_DEV:\n",
        "    y_test = y_test.map(lim_adi_dict)"
      ]
    },
    {
      "cell_type": "code",
      "execution_count": null,
      "metadata": {
        "id": "ZuA3qfWGGTDT"
      },
      "outputs": [],
      "source": [
        "def resultado(algoritmo, treino, teste, report, resultados):\n",
        "    # resultados = pd.DataFrame(data=[['', 0.0, 0.0, '']], columns=['algoritmo', 'treino', 'teste', 'report'])\n",
        "    return pd.concat([resultados,\n",
        "        pd.DataFrame([{'algoritmo': algoritmo,\n",
        "                    'treino': treino,\n",
        "                    'teste': teste,\n",
        "                    'report': report}])\n",
        "    ]).sort_values('teste', ascending=False)\n",
        "resultados = pd.DataFrame()"
      ]
    },
    {
      "cell_type": "markdown",
      "metadata": {
        "id": "O2sGQv8_3pyl"
      },
      "source": [
        "## Outra abordagem"
      ]
    },
    {
      "cell_type": "code",
      "execution_count": null,
      "metadata": {
        "colab": {
          "base_uri": "https://localhost:8080/"
        },
        "id": "CUAtZRU6-DEI",
        "outputId": "07d5ec03-8fad-4b4b-db4f-7b9a0f6e8b7a"
      },
      "outputs": [
        {
          "name": "stdout",
          "output_type": "stream",
          "text": [
            "Looking in indexes: https://pypi.org/simple, https://us-python.pkg.dev/colab-wheels/public/simple/\n",
            "Requirement already satisfied: category_encoders in /usr/local/lib/python3.7/dist-packages (2.5.1.post0)\n",
            "Requirement already satisfied: scipy>=1.0.0 in /usr/local/lib/python3.7/dist-packages (from category_encoders) (1.7.3)\n",
            "Requirement already satisfied: numpy>=1.14.0 in /usr/local/lib/python3.7/dist-packages (from category_encoders) (1.21.6)\n",
            "Requirement already satisfied: pandas>=1.0.5 in /usr/local/lib/python3.7/dist-packages (from category_encoders) (1.3.5)\n",
            "Requirement already satisfied: scikit-learn>=0.20.0 in /usr/local/lib/python3.7/dist-packages (from category_encoders) (1.0.2)\n",
            "Requirement already satisfied: patsy>=0.5.1 in /usr/local/lib/python3.7/dist-packages (from category_encoders) (0.5.3)\n",
            "Requirement already satisfied: statsmodels>=0.9.0 in /usr/local/lib/python3.7/dist-packages (from category_encoders) (0.12.2)\n",
            "Requirement already satisfied: python-dateutil>=2.7.3 in /usr/local/lib/python3.7/dist-packages (from pandas>=1.0.5->category_encoders) (2.8.2)\n",
            "Requirement already satisfied: pytz>=2017.3 in /usr/local/lib/python3.7/dist-packages (from pandas>=1.0.5->category_encoders) (2022.4)\n",
            "Requirement already satisfied: six in /usr/local/lib/python3.7/dist-packages (from patsy>=0.5.1->category_encoders) (1.15.0)\n",
            "Requirement already satisfied: joblib>=0.11 in /usr/local/lib/python3.7/dist-packages (from scikit-learn>=0.20.0->category_encoders) (1.2.0)\n",
            "Requirement already satisfied: threadpoolctl>=2.0.0 in /usr/local/lib/python3.7/dist-packages (from scikit-learn>=0.20.0->category_encoders) (3.1.0)\n"
          ]
        }
      ],
      "source": [
        "# !pip install category_encoders"
      ]
    },
    {
      "cell_type": "code",
      "execution_count": null,
      "metadata": {
        "id": "57Dof7F2rOPQ"
      },
      "outputs": [],
      "source": [
        "# evaluate knn on the box-cox sonar dataset\n",
        "from numpy import mean\n",
        "from numpy import std\n",
        "from pandas import read_csv\n",
        "from sklearn.model_selection import cross_val_score\n",
        "from sklearn.model_selection import RepeatedStratifiedKFold\n",
        "from sklearn.neighbors import KNeighborsClassifier\n",
        "from sklearn.preprocessing import LabelEncoder\n",
        "from sklearn.preprocessing import PowerTransformer\n",
        "from sklearn.preprocessing import MinMaxScaler\n",
        "from sklearn.pipeline import Pipeline\n",
        "from matplotlib import pyplot\n",
        "\n",
        "from category_encoders.count import CountEncoder\n",
        "from imblearn.over_sampling import KMeansSMOTE\n",
        "\n",
        "# Sampling\n",
        "from imblearn.under_sampling import TomekLinks\n",
        "from imblearn.under_sampling import RandomUnderSampler\n",
        "from imblearn.over_sampling import SMOTE\n",
        "from imblearn.combine import SMOTETomek\n",
        "from imblearn.over_sampling import SMOTENC\n",
        "from collections import Counter"
      ]
    },
    {
      "cell_type": "code",
      "execution_count": null,
      "metadata": {
        "id": "sw652_-QQ4FV"
      },
      "outputs": [],
      "source": [
        "features = ['idade', \n",
        "            'saldo_atual', \n",
        "            'divida_atual', \n",
        "            'renda_anual',\n",
        "            'valor_em_investimentos', \n",
        "            'taxa_utilizacao_credito', \n",
        "            'num_emprestimos',\n",
        "            'num_contas_bancarias', \n",
        "            'num_cartoes_credito', \n",
        "            'dias_atraso_dt_venc',\n",
        "            'num_pgtos_atrasados', \n",
        "            'num_consultas_credito', \n",
        "            'taxa_juros',\n",
        "            # 'investe_exterior', \n",
        "            # 'pessoa_polit_exp'\n",
        "            ]"
      ]
    },
    {
      "cell_type": "code",
      "execution_count": null,
      "metadata": {
        "id": "0WqNWkL8tEAA"
      },
      "outputs": [],
      "source": [
        "\n",
        "# df7['pessoa_polit_exp'] = LabelEncoder().fit_transform(df7['pessoa_polit_exp'].astype('str'))\n",
        "# df7['investe_exterior'] = LabelEncoder().fit_transform(df7['investe_exterior'].astype('str'))\n",
        "df_modelo = df_raw.copy()\n",
        "\n",
        "le_cat = LabelEncoder()\n",
        "\n",
        "# df['idade'] = df['idade'].apply(lambda x: x if x <= 101 else df['idade'].median())\n",
        "# df['num_contas_bancarias'] = df['num_contas_bancarias'].apply(lambda x: x if x <= df['num_contas_bancarias'].quantile(0.95) else df['num_contas_bancarias'].median())\n",
        "# df['num_contas_bancarias'] = df['num_contas_bancarias'].apply(lambda x: x if x <= df['num_contas_bancarias'].quantile(0.95) else df['num_contas_bancarias'].quantile(0.99))\n",
        "# df['num_consultas_credito'] = df['num_consultas_credito'].apply(lambda x: x if x <= df['num_consultas_credito'].quantile(0.98) else df['num_consultas_credito'].quantile(0.99))\n",
        "# df['num_pgtos_atrasados'] = df['num_pgtos_atrasados'].apply(lambda x: x if x <= df['num_pgtos_atrasados'].quantile(0.99) else df['num_pgtos_atrasados'].quantile(0.99))\n",
        "# df['taxa_juros'] = df['taxa_juros'].apply(lambda x: x if x <= df['taxa_juros'].quantile(0.98) else df['taxa_juros'].quantile(0.98))\n",
        "\n",
        "\n",
        "# df_modelo['investe_exterior'] = le_cat.fit_transform(df_modelo['investe_exterior'].astype('str'))\n",
        "# df_modelo['pessoa_polit_exp'] = le_cat.fit_transform(df_modelo['pessoa_polit_exp'].astype('str'))"
      ]
    },
    {
      "cell_type": "code",
      "execution_count": null,
      "metadata": {
        "colab": {
          "base_uri": "https://localhost:8080/"
        },
        "id": "-CoMmHjIq2Tr",
        "outputId": "520dd77c-3563-4c21-f8ae-4ab69ef678af"
      },
      "outputs": [
        {
          "name": "stdout",
          "output_type": "stream",
          "text": [
            "Accuracy: 0.923 (0.006)\n"
          ]
        }
      ],
      "source": [
        "\n",
        "X, y = df_modelo.drop(['id_cliente', 'limite_adicional','investe_exterior', 'pessoa_polit_exp'],axis=1), df_modelo['limite_adicional']\n",
        "\n",
        "X = X.astype('float32')\n",
        "y = LabelEncoder().fit_transform(y.astype('str'))\n",
        "\n",
        "over = {\n",
        "    0: 7995,\n",
        "    1: 7995}\n",
        "\n",
        "smote_tomek = SMOTETomek(random_state=42)\n",
        "x_smote, y_smote = smote_tomek.fit_resample(X[features], y)\n",
        "\n",
        "\n",
        "# col_encoder = ['investe_exterior', 'pessoa_polit_exp']\n",
        "# ce = CountEncoder(cols=col_encoder)\n",
        "\n",
        "scaler = MinMaxScaler(feature_range=(1, 2))\n",
        "power = PowerTransformer(method='box-cox')\n",
        "model = GradientBoostingClassifier(random_state=42)\n",
        "# model = XGBClassifier(random_state=42)\n",
        "\n",
        "pipeline = Pipeline(steps=[#('ce', ce), \n",
        "                           ('s', scaler),\n",
        "                           ('p', power), \n",
        "                           ('m', model)])\n",
        "\n",
        "# evaluate the pipeline\n",
        "cv = RepeatedStratifiedKFold(n_splits=10, n_repeats=3, random_state=42)\n",
        "# n_scores = cross_val_score(pipeline, X, y, scoring='accuracy', cv=cv, n_jobs=-1, error_score='raise') #f1_weighted\n",
        "n_scores = cross_val_score(pipeline, x_smote, y_smote, scoring='accuracy', cv=cv, n_jobs=-1, error_score='raise') #f1_weighted\n",
        "\n",
        "# report pipeline performance\n",
        "print('Accuracy: %.3f (%.3f)' % (mean(n_scores), std(n_scores)))"
      ]
    },
    {
      "cell_type": "code",
      "execution_count": null,
      "metadata": {
        "id": "7jj2yntjag1S"
      },
      "outputs": [],
      "source": []
    },
    {
      "cell_type": "code",
      "execution_count": null,
      "metadata": {
        "id": "eBs6Yqliag-a"
      },
      "outputs": [],
      "source": [
        "### reading testing dataset\n",
        "test = pd.read_csv(\"files/test.csv\")\n",
        "#X_new = test.drop(['id_cliente','investe_exterior','pessoa_polit_exp'],axis=1)\n",
        "# separate into input and output columns\n",
        "X_new = test.drop(['id_cliente','investe_exterior','pessoa_polit_exp'],axis=1)\n",
        "# ensure inputs are floats and output is an integer label\n",
        "\n",
        "# le = LabelEncoder()\n",
        "# X_new['investe_exterior'] = le.fit_transform(X_new['investe_exterior'])\n",
        "# X_new['pessoa_polit_exp'] = le.fit_transform(X_new['pessoa_polit_exp'])\n",
        "\n",
        "# X_new = X_new.astype('float32')\n",
        "\n",
        "flag_index = X_new.loc[X_new.idade>100].index\n",
        "X_new['flag_idade'] = 0\n",
        "X_new.loc[flag_index, 'flag_idade'] = 1\n",
        "\n",
        "pipeline.fit(X,y)\n",
        "# Fazer a previsão do score usando o modelo final treinado:\n",
        "yhat_xgboost_ktest = pipeline.predict(X_new)\n",
        "\n",
        "# Preparação para submissão\n",
        "# Criar dataset final\n",
        "df_sub = pd.concat([test['id_cliente'], pd.Series(yhat_xgboost_ktest, name='limite_adicional')], axis=1)\n",
        "# Traduzir var resposta\n",
        "#lim_adi_dic_final = {0 : 'Negar', 1: 'Conceder'}\n",
        "lim_adi_dic_final = {1 : 'Negar', 0: 'Conceder'}\n",
        "\n",
        "\n",
        "df_sub['limite_adicional'] = df_sub['limite_adicional'].map( lim_adi_dic_final )\n",
        "# Visutalizar arquivo final para submissão ao Kaggle\n",
        "display(df_sub[:5])\n",
        "# Gerar export para submission no Kaggle\n",
        "df_sub.to_csv('submissions/gbc_minmax_boxcox_smote_flag.csv', index=False) "
      ]
    },
    {
      "cell_type": "markdown",
      "metadata": {
        "id": "JfkRkBYI2ddH"
      },
      "source": [
        "Accuracy: 0.879 (0.008)"
      ]
    },
    {
      "cell_type": "code",
      "execution_count": null,
      "metadata": {
        "colab": {
          "base_uri": "https://localhost:8080/"
        },
        "id": "k8zdtMYWt2SY",
        "outputId": "771269f9-295c-4bc6-958c-8923a2a9a260"
      },
      "outputs": [
        {
          "name": "stdout",
          "output_type": "stream",
          "text": [
            "F1: 0.912 (0.007)\n"
          ]
        }
      ],
      "source": [
        "n_scoresf1 = cross_val_score(pipeline, x_smote, y_smote, scoring='f1_weighted', cv=cv, n_jobs=-1, error_score='raise') #f1_weighted\n",
        "print('F1: %.3f (%.3f)' % (mean(n_scoresf1), std(n_scoresf1)))"
      ]
    },
    {
      "cell_type": "code",
      "execution_count": null,
      "metadata": {
        "colab": {
          "base_uri": "https://localhost:8080/",
          "height": 381
        },
        "id": "v0rFkaQLw9Gi",
        "outputId": "027f117a-0860-4f86-b04a-c73f220f2ad2"
      },
      "outputs": [
        {
          "ename": "FloatingPointError",
          "evalue": "ignored",
          "output_type": "error",
          "traceback": [
            "\u001b[0;31m---------------------------------------------------------------------------\u001b[0m",
            "\u001b[0;31mFloatingPointError\u001b[0m                        Traceback (most recent call last)",
            "\u001b[0;32m<ipython-input-840-77417b281ca1>\u001b[0m in \u001b[0;36m<module>\u001b[0;34m\u001b[0m\n\u001b[1;32m      6\u001b[0m \u001b[0;31m# X_new['pessoa_polit_exp'] = le_cat.transform(X_new['pessoa_polit_exp'].astype('str'))\u001b[0m\u001b[0;34m\u001b[0m\u001b[0;34m\u001b[0m\u001b[0;34m\u001b[0m\u001b[0m\n\u001b[1;32m      7\u001b[0m \u001b[0;34m\u001b[0m\u001b[0m\n\u001b[0;32m----> 8\u001b[0;31m \u001b[0mpipeline\u001b[0m\u001b[0;34m.\u001b[0m\u001b[0mfit\u001b[0m\u001b[0;34m(\u001b[0m\u001b[0mx_smote\u001b[0m\u001b[0;34m,\u001b[0m \u001b[0my_smote\u001b[0m\u001b[0;34m)\u001b[0m\u001b[0;34m\u001b[0m\u001b[0;34m\u001b[0m\u001b[0m\n\u001b[0m\u001b[1;32m      9\u001b[0m \u001b[0;31m# Fazer a previsão do score usando o modelo final treinado:\u001b[0m\u001b[0;34m\u001b[0m\u001b[0;34m\u001b[0m\u001b[0;34m\u001b[0m\u001b[0m\n\u001b[1;32m     10\u001b[0m \u001b[0myhat_xgboost_ktest\u001b[0m \u001b[0;34m=\u001b[0m \u001b[0mpipeline\u001b[0m\u001b[0;34m.\u001b[0m\u001b[0mpredict\u001b[0m\u001b[0;34m(\u001b[0m\u001b[0mX_new\u001b[0m\u001b[0;34m)\u001b[0m\u001b[0;34m\u001b[0m\u001b[0;34m\u001b[0m\u001b[0m\n",
            "\u001b[0;32m/usr/local/lib/python3.7/dist-packages/sklearn/pipeline.py\u001b[0m in \u001b[0;36mfit\u001b[0;34m(self, X, y, **fit_params)\u001b[0m\n\u001b[1;32m    388\u001b[0m         \"\"\"\n\u001b[1;32m    389\u001b[0m         \u001b[0mfit_params_steps\u001b[0m \u001b[0;34m=\u001b[0m \u001b[0mself\u001b[0m\u001b[0;34m.\u001b[0m\u001b[0m_check_fit_params\u001b[0m\u001b[0;34m(\u001b[0m\u001b[0;34m**\u001b[0m\u001b[0mfit_params\u001b[0m\u001b[0;34m)\u001b[0m\u001b[0;34m\u001b[0m\u001b[0;34m\u001b[0m\u001b[0m\n\u001b[0;32m--> 390\u001b[0;31m         \u001b[0mXt\u001b[0m \u001b[0;34m=\u001b[0m \u001b[0mself\u001b[0m\u001b[0;34m.\u001b[0m\u001b[0m_fit\u001b[0m\u001b[0;34m(\u001b[0m\u001b[0mX\u001b[0m\u001b[0;34m,\u001b[0m \u001b[0my\u001b[0m\u001b[0;34m,\u001b[0m \u001b[0;34m**\u001b[0m\u001b[0mfit_params_steps\u001b[0m\u001b[0;34m)\u001b[0m\u001b[0;34m\u001b[0m\u001b[0;34m\u001b[0m\u001b[0m\n\u001b[0m\u001b[1;32m    391\u001b[0m         \u001b[0;32mwith\u001b[0m \u001b[0m_print_elapsed_time\u001b[0m\u001b[0;34m(\u001b[0m\u001b[0;34m\"Pipeline\"\u001b[0m\u001b[0;34m,\u001b[0m \u001b[0mself\u001b[0m\u001b[0;34m.\u001b[0m\u001b[0m_log_message\u001b[0m\u001b[0;34m(\u001b[0m\u001b[0mlen\u001b[0m\u001b[0;34m(\u001b[0m\u001b[0mself\u001b[0m\u001b[0;34m.\u001b[0m\u001b[0msteps\u001b[0m\u001b[0;34m)\u001b[0m \u001b[0;34m-\u001b[0m \u001b[0;36m1\u001b[0m\u001b[0;34m)\u001b[0m\u001b[0;34m)\u001b[0m\u001b[0;34m:\u001b[0m\u001b[0;34m\u001b[0m\u001b[0;34m\u001b[0m\u001b[0m\n\u001b[1;32m    392\u001b[0m             \u001b[0;32mif\u001b[0m \u001b[0mself\u001b[0m\u001b[0;34m.\u001b[0m\u001b[0m_final_estimator\u001b[0m \u001b[0;34m!=\u001b[0m \u001b[0;34m\"passthrough\"\u001b[0m\u001b[0;34m:\u001b[0m\u001b[0;34m\u001b[0m\u001b[0;34m\u001b[0m\u001b[0m\n",
            "\u001b[0;32m/usr/local/lib/python3.7/dist-packages/sklearn/pipeline.py\u001b[0m in \u001b[0;36m_fit\u001b[0;34m(self, X, y, **fit_params_steps)\u001b[0m\n\u001b[1;32m    353\u001b[0m                 \u001b[0mmessage_clsname\u001b[0m\u001b[0;34m=\u001b[0m\u001b[0;34m\"Pipeline\"\u001b[0m\u001b[0;34m,\u001b[0m\u001b[0;34m\u001b[0m\u001b[0;34m\u001b[0m\u001b[0m\n\u001b[1;32m    354\u001b[0m                 \u001b[0mmessage\u001b[0m\u001b[0;34m=\u001b[0m\u001b[0mself\u001b[0m\u001b[0;34m.\u001b[0m\u001b[0m_log_message\u001b[0m\u001b[0;34m(\u001b[0m\u001b[0mstep_idx\u001b[0m\u001b[0;34m)\u001b[0m\u001b[0;34m,\u001b[0m\u001b[0;34m\u001b[0m\u001b[0;34m\u001b[0m\u001b[0m\n\u001b[0;32m--> 355\u001b[0;31m                 \u001b[0;34m**\u001b[0m\u001b[0mfit_params_steps\u001b[0m\u001b[0;34m[\u001b[0m\u001b[0mname\u001b[0m\u001b[0;34m]\u001b[0m\u001b[0;34m,\u001b[0m\u001b[0;34m\u001b[0m\u001b[0;34m\u001b[0m\u001b[0m\n\u001b[0m\u001b[1;32m    356\u001b[0m             )\n\u001b[1;32m    357\u001b[0m             \u001b[0;31m# Replace the transformer of the step with the fitted\u001b[0m\u001b[0;34m\u001b[0m\u001b[0;34m\u001b[0m\u001b[0;34m\u001b[0m\u001b[0m\n",
            "\u001b[0;32m/usr/local/lib/python3.7/dist-packages/joblib/memory.py\u001b[0m in \u001b[0;36m__call__\u001b[0;34m(self, *args, **kwargs)\u001b[0m\n\u001b[1;32m    347\u001b[0m \u001b[0;34m\u001b[0m\u001b[0m\n\u001b[1;32m    348\u001b[0m     \u001b[0;32mdef\u001b[0m \u001b[0m__call__\u001b[0m\u001b[0;34m(\u001b[0m\u001b[0mself\u001b[0m\u001b[0;34m,\u001b[0m \u001b[0;34m*\u001b[0m\u001b[0margs\u001b[0m\u001b[0;34m,\u001b[0m \u001b[0;34m**\u001b[0m\u001b[0mkwargs\u001b[0m\u001b[0;34m)\u001b[0m\u001b[0;34m:\u001b[0m\u001b[0;34m\u001b[0m\u001b[0;34m\u001b[0m\u001b[0m\n\u001b[0;32m--> 349\u001b[0;31m         \u001b[0;32mreturn\u001b[0m \u001b[0mself\u001b[0m\u001b[0;34m.\u001b[0m\u001b[0mfunc\u001b[0m\u001b[0;34m(\u001b[0m\u001b[0;34m*\u001b[0m\u001b[0margs\u001b[0m\u001b[0;34m,\u001b[0m \u001b[0;34m**\u001b[0m\u001b[0mkwargs\u001b[0m\u001b[0;34m)\u001b[0m\u001b[0;34m\u001b[0m\u001b[0;34m\u001b[0m\u001b[0m\n\u001b[0m\u001b[1;32m    350\u001b[0m \u001b[0;34m\u001b[0m\u001b[0m\n\u001b[1;32m    351\u001b[0m     \u001b[0;32mdef\u001b[0m \u001b[0mcall_and_shelve\u001b[0m\u001b[0;34m(\u001b[0m\u001b[0mself\u001b[0m\u001b[0;34m,\u001b[0m \u001b[0;34m*\u001b[0m\u001b[0margs\u001b[0m\u001b[0;34m,\u001b[0m \u001b[0;34m**\u001b[0m\u001b[0mkwargs\u001b[0m\u001b[0;34m)\u001b[0m\u001b[0;34m:\u001b[0m\u001b[0;34m\u001b[0m\u001b[0;34m\u001b[0m\u001b[0m\n",
            "\u001b[0;32m/usr/local/lib/python3.7/dist-packages/sklearn/pipeline.py\u001b[0m in \u001b[0;36m_fit_transform_one\u001b[0;34m(transformer, X, y, weight, message_clsname, message, **fit_params)\u001b[0m\n\u001b[1;32m    891\u001b[0m     \u001b[0;32mwith\u001b[0m \u001b[0m_print_elapsed_time\u001b[0m\u001b[0;34m(\u001b[0m\u001b[0mmessage_clsname\u001b[0m\u001b[0;34m,\u001b[0m \u001b[0mmessage\u001b[0m\u001b[0;34m)\u001b[0m\u001b[0;34m:\u001b[0m\u001b[0;34m\u001b[0m\u001b[0;34m\u001b[0m\u001b[0m\n\u001b[1;32m    892\u001b[0m         \u001b[0;32mif\u001b[0m \u001b[0mhasattr\u001b[0m\u001b[0;34m(\u001b[0m\u001b[0mtransformer\u001b[0m\u001b[0;34m,\u001b[0m \u001b[0;34m\"fit_transform\"\u001b[0m\u001b[0;34m)\u001b[0m\u001b[0;34m:\u001b[0m\u001b[0;34m\u001b[0m\u001b[0;34m\u001b[0m\u001b[0m\n\u001b[0;32m--> 893\u001b[0;31m             \u001b[0mres\u001b[0m \u001b[0;34m=\u001b[0m \u001b[0mtransformer\u001b[0m\u001b[0;34m.\u001b[0m\u001b[0mfit_transform\u001b[0m\u001b[0;34m(\u001b[0m\u001b[0mX\u001b[0m\u001b[0;34m,\u001b[0m \u001b[0my\u001b[0m\u001b[0;34m,\u001b[0m \u001b[0;34m**\u001b[0m\u001b[0mfit_params\u001b[0m\u001b[0;34m)\u001b[0m\u001b[0;34m\u001b[0m\u001b[0;34m\u001b[0m\u001b[0m\n\u001b[0m\u001b[1;32m    894\u001b[0m         \u001b[0;32melse\u001b[0m\u001b[0;34m:\u001b[0m\u001b[0;34m\u001b[0m\u001b[0;34m\u001b[0m\u001b[0m\n\u001b[1;32m    895\u001b[0m             \u001b[0mres\u001b[0m \u001b[0;34m=\u001b[0m \u001b[0mtransformer\u001b[0m\u001b[0;34m.\u001b[0m\u001b[0mfit\u001b[0m\u001b[0;34m(\u001b[0m\u001b[0mX\u001b[0m\u001b[0;34m,\u001b[0m \u001b[0my\u001b[0m\u001b[0;34m,\u001b[0m \u001b[0;34m**\u001b[0m\u001b[0mfit_params\u001b[0m\u001b[0;34m)\u001b[0m\u001b[0;34m.\u001b[0m\u001b[0mtransform\u001b[0m\u001b[0;34m(\u001b[0m\u001b[0mX\u001b[0m\u001b[0;34m)\u001b[0m\u001b[0;34m\u001b[0m\u001b[0;34m\u001b[0m\u001b[0m\n",
            "\u001b[0;32m/usr/local/lib/python3.7/dist-packages/sklearn/preprocessing/_data.py\u001b[0m in \u001b[0;36mfit_transform\u001b[0;34m(self, X, y)\u001b[0m\n\u001b[1;32m   3063\u001b[0m             \u001b[0mTransformed\u001b[0m \u001b[0mdata\u001b[0m\u001b[0;34m.\u001b[0m\u001b[0;34m\u001b[0m\u001b[0;34m\u001b[0m\u001b[0m\n\u001b[1;32m   3064\u001b[0m         \"\"\"\n\u001b[0;32m-> 3065\u001b[0;31m         \u001b[0;32mreturn\u001b[0m \u001b[0mself\u001b[0m\u001b[0;34m.\u001b[0m\u001b[0m_fit\u001b[0m\u001b[0;34m(\u001b[0m\u001b[0mX\u001b[0m\u001b[0;34m,\u001b[0m \u001b[0my\u001b[0m\u001b[0;34m,\u001b[0m \u001b[0mforce_transform\u001b[0m\u001b[0;34m=\u001b[0m\u001b[0;32mTrue\u001b[0m\u001b[0;34m)\u001b[0m\u001b[0;34m\u001b[0m\u001b[0;34m\u001b[0m\u001b[0m\n\u001b[0m\u001b[1;32m   3066\u001b[0m \u001b[0;34m\u001b[0m\u001b[0m\n\u001b[1;32m   3067\u001b[0m     \u001b[0;32mdef\u001b[0m \u001b[0m_fit\u001b[0m\u001b[0;34m(\u001b[0m\u001b[0mself\u001b[0m\u001b[0;34m,\u001b[0m \u001b[0mX\u001b[0m\u001b[0;34m,\u001b[0m \u001b[0my\u001b[0m\u001b[0;34m=\u001b[0m\u001b[0;32mNone\u001b[0m\u001b[0;34m,\u001b[0m \u001b[0mforce_transform\u001b[0m\u001b[0;34m=\u001b[0m\u001b[0;32mFalse\u001b[0m\u001b[0;34m)\u001b[0m\u001b[0;34m:\u001b[0m\u001b[0;34m\u001b[0m\u001b[0;34m\u001b[0m\u001b[0m\n",
            "\u001b[0;32m/usr/local/lib/python3.7/dist-packages/sklearn/preprocessing/_data.py\u001b[0m in \u001b[0;36m_fit\u001b[0;34m(self, X, y, force_transform)\u001b[0m\n\u001b[1;32m   3076\u001b[0m         }[self.method]\n\u001b[1;32m   3077\u001b[0m         \u001b[0;32mwith\u001b[0m \u001b[0mnp\u001b[0m\u001b[0;34m.\u001b[0m\u001b[0merrstate\u001b[0m\u001b[0;34m(\u001b[0m\u001b[0minvalid\u001b[0m\u001b[0;34m=\u001b[0m\u001b[0;34m\"ignore\"\u001b[0m\u001b[0;34m)\u001b[0m\u001b[0;34m:\u001b[0m  \u001b[0;31m# hide NaN warnings\u001b[0m\u001b[0;34m\u001b[0m\u001b[0;34m\u001b[0m\u001b[0m\n\u001b[0;32m-> 3078\u001b[0;31m             \u001b[0mself\u001b[0m\u001b[0;34m.\u001b[0m\u001b[0mlambdas_\u001b[0m \u001b[0;34m=\u001b[0m \u001b[0mnp\u001b[0m\u001b[0;34m.\u001b[0m\u001b[0marray\u001b[0m\u001b[0;34m(\u001b[0m\u001b[0;34m[\u001b[0m\u001b[0moptim_function\u001b[0m\u001b[0;34m(\u001b[0m\u001b[0mcol\u001b[0m\u001b[0;34m)\u001b[0m \u001b[0;32mfor\u001b[0m \u001b[0mcol\u001b[0m \u001b[0;32min\u001b[0m \u001b[0mX\u001b[0m\u001b[0;34m.\u001b[0m\u001b[0mT\u001b[0m\u001b[0;34m]\u001b[0m\u001b[0;34m)\u001b[0m\u001b[0;34m\u001b[0m\u001b[0;34m\u001b[0m\u001b[0m\n\u001b[0m\u001b[1;32m   3079\u001b[0m \u001b[0;34m\u001b[0m\u001b[0m\n\u001b[1;32m   3080\u001b[0m         \u001b[0;32mif\u001b[0m \u001b[0mself\u001b[0m\u001b[0;34m.\u001b[0m\u001b[0mstandardize\u001b[0m \u001b[0;32mor\u001b[0m \u001b[0mforce_transform\u001b[0m\u001b[0;34m:\u001b[0m\u001b[0;34m\u001b[0m\u001b[0;34m\u001b[0m\u001b[0m\n",
            "\u001b[0;32m/usr/local/lib/python3.7/dist-packages/sklearn/preprocessing/_data.py\u001b[0m in \u001b[0;36m<listcomp>\u001b[0;34m(.0)\u001b[0m\n\u001b[1;32m   3076\u001b[0m         }[self.method]\n\u001b[1;32m   3077\u001b[0m         \u001b[0;32mwith\u001b[0m \u001b[0mnp\u001b[0m\u001b[0;34m.\u001b[0m\u001b[0merrstate\u001b[0m\u001b[0;34m(\u001b[0m\u001b[0minvalid\u001b[0m\u001b[0;34m=\u001b[0m\u001b[0;34m\"ignore\"\u001b[0m\u001b[0;34m)\u001b[0m\u001b[0;34m:\u001b[0m  \u001b[0;31m# hide NaN warnings\u001b[0m\u001b[0;34m\u001b[0m\u001b[0;34m\u001b[0m\u001b[0m\n\u001b[0;32m-> 3078\u001b[0;31m             \u001b[0mself\u001b[0m\u001b[0;34m.\u001b[0m\u001b[0mlambdas_\u001b[0m \u001b[0;34m=\u001b[0m \u001b[0mnp\u001b[0m\u001b[0;34m.\u001b[0m\u001b[0marray\u001b[0m\u001b[0;34m(\u001b[0m\u001b[0;34m[\u001b[0m\u001b[0moptim_function\u001b[0m\u001b[0;34m(\u001b[0m\u001b[0mcol\u001b[0m\u001b[0;34m)\u001b[0m \u001b[0;32mfor\u001b[0m \u001b[0mcol\u001b[0m \u001b[0;32min\u001b[0m \u001b[0mX\u001b[0m\u001b[0;34m.\u001b[0m\u001b[0mT\u001b[0m\u001b[0;34m]\u001b[0m\u001b[0;34m)\u001b[0m\u001b[0;34m\u001b[0m\u001b[0;34m\u001b[0m\u001b[0m\n\u001b[0m\u001b[1;32m   3079\u001b[0m \u001b[0;34m\u001b[0m\u001b[0m\n\u001b[1;32m   3080\u001b[0m         \u001b[0;32mif\u001b[0m \u001b[0mself\u001b[0m\u001b[0;34m.\u001b[0m\u001b[0mstandardize\u001b[0m \u001b[0;32mor\u001b[0m \u001b[0mforce_transform\u001b[0m\u001b[0;34m:\u001b[0m\u001b[0;34m\u001b[0m\u001b[0;34m\u001b[0m\u001b[0m\n",
            "\u001b[0;32m/usr/local/lib/python3.7/dist-packages/sklearn/preprocessing/_data.py\u001b[0m in \u001b[0;36m_box_cox_optimize\u001b[0;34m(self, x)\u001b[0m\n\u001b[1;32m   3234\u001b[0m         \u001b[0;31m# the computation of lambda is influenced by NaNs so we need to\u001b[0m\u001b[0;34m\u001b[0m\u001b[0;34m\u001b[0m\u001b[0;34m\u001b[0m\u001b[0m\n\u001b[1;32m   3235\u001b[0m         \u001b[0;31m# get rid of them\u001b[0m\u001b[0;34m\u001b[0m\u001b[0;34m\u001b[0m\u001b[0;34m\u001b[0m\u001b[0m\n\u001b[0;32m-> 3236\u001b[0;31m         \u001b[0m_\u001b[0m\u001b[0;34m,\u001b[0m \u001b[0mlmbda\u001b[0m \u001b[0;34m=\u001b[0m \u001b[0mstats\u001b[0m\u001b[0;34m.\u001b[0m\u001b[0mboxcox\u001b[0m\u001b[0;34m(\u001b[0m\u001b[0mx\u001b[0m\u001b[0;34m[\u001b[0m\u001b[0;34m~\u001b[0m\u001b[0mnp\u001b[0m\u001b[0;34m.\u001b[0m\u001b[0misnan\u001b[0m\u001b[0;34m(\u001b[0m\u001b[0mx\u001b[0m\u001b[0;34m)\u001b[0m\u001b[0;34m]\u001b[0m\u001b[0;34m,\u001b[0m \u001b[0mlmbda\u001b[0m\u001b[0;34m=\u001b[0m\u001b[0;32mNone\u001b[0m\u001b[0;34m)\u001b[0m\u001b[0;34m\u001b[0m\u001b[0;34m\u001b[0m\u001b[0m\n\u001b[0m\u001b[1;32m   3237\u001b[0m \u001b[0;34m\u001b[0m\u001b[0m\n\u001b[1;32m   3238\u001b[0m         \u001b[0;32mreturn\u001b[0m \u001b[0mlmbda\u001b[0m\u001b[0;34m\u001b[0m\u001b[0;34m\u001b[0m\u001b[0m\n",
            "\u001b[0;32m/usr/local/lib/python3.7/dist-packages/scipy/stats/morestats.py\u001b[0m in \u001b[0;36mboxcox\u001b[0;34m(x, lmbda, alpha, optimizer)\u001b[0m\n\u001b[1;32m   1068\u001b[0m \u001b[0;34m\u001b[0m\u001b[0m\n\u001b[1;32m   1069\u001b[0m     \u001b[0;31m# If lmbda=None, find the lmbda that maximizes the log-likelihood function.\u001b[0m\u001b[0;34m\u001b[0m\u001b[0;34m\u001b[0m\u001b[0;34m\u001b[0m\u001b[0m\n\u001b[0;32m-> 1070\u001b[0;31m     \u001b[0mlmax\u001b[0m \u001b[0;34m=\u001b[0m \u001b[0mboxcox_normmax\u001b[0m\u001b[0;34m(\u001b[0m\u001b[0mx\u001b[0m\u001b[0;34m,\u001b[0m \u001b[0mmethod\u001b[0m\u001b[0;34m=\u001b[0m\u001b[0;34m'mle'\u001b[0m\u001b[0;34m,\u001b[0m \u001b[0moptimizer\u001b[0m\u001b[0;34m=\u001b[0m\u001b[0moptimizer\u001b[0m\u001b[0;34m)\u001b[0m\u001b[0;34m\u001b[0m\u001b[0;34m\u001b[0m\u001b[0m\n\u001b[0m\u001b[1;32m   1071\u001b[0m     \u001b[0my\u001b[0m \u001b[0;34m=\u001b[0m \u001b[0mboxcox\u001b[0m\u001b[0;34m(\u001b[0m\u001b[0mx\u001b[0m\u001b[0;34m,\u001b[0m \u001b[0mlmax\u001b[0m\u001b[0;34m)\u001b[0m\u001b[0;34m\u001b[0m\u001b[0;34m\u001b[0m\u001b[0m\n\u001b[1;32m   1072\u001b[0m \u001b[0;34m\u001b[0m\u001b[0m\n",
            "\u001b[0;32m/usr/local/lib/python3.7/dist-packages/scipy/stats/morestats.py\u001b[0m in \u001b[0;36mboxcox_normmax\u001b[0;34m(x, brack, method, optimizer)\u001b[0m\n\u001b[1;32m   1238\u001b[0m \u001b[0;34m\u001b[0m\u001b[0m\n\u001b[1;32m   1239\u001b[0m     \u001b[0moptimfunc\u001b[0m \u001b[0;34m=\u001b[0m \u001b[0mmethods\u001b[0m\u001b[0;34m[\u001b[0m\u001b[0mmethod\u001b[0m\u001b[0;34m]\u001b[0m\u001b[0;34m\u001b[0m\u001b[0;34m\u001b[0m\u001b[0m\n\u001b[0;32m-> 1240\u001b[0;31m     \u001b[0mres\u001b[0m \u001b[0;34m=\u001b[0m \u001b[0moptimfunc\u001b[0m\u001b[0;34m(\u001b[0m\u001b[0mx\u001b[0m\u001b[0;34m)\u001b[0m\u001b[0;34m\u001b[0m\u001b[0;34m\u001b[0m\u001b[0m\n\u001b[0m\u001b[1;32m   1241\u001b[0m     \u001b[0;32mif\u001b[0m \u001b[0mres\u001b[0m \u001b[0;32mis\u001b[0m \u001b[0;32mNone\u001b[0m\u001b[0;34m:\u001b[0m\u001b[0;34m\u001b[0m\u001b[0;34m\u001b[0m\u001b[0m\n\u001b[1;32m   1242\u001b[0m         message = (\"`optimizer` must return an object containing the optimal \"\n",
            "\u001b[0;32m/usr/local/lib/python3.7/dist-packages/scipy/stats/morestats.py\u001b[0m in \u001b[0;36m_mle\u001b[0;34m(x)\u001b[0m\n\u001b[1;32m   1223\u001b[0m             \u001b[0;32mreturn\u001b[0m \u001b[0;34m-\u001b[0m\u001b[0mboxcox_llf\u001b[0m\u001b[0;34m(\u001b[0m\u001b[0mlmb\u001b[0m\u001b[0;34m,\u001b[0m \u001b[0mdata\u001b[0m\u001b[0;34m)\u001b[0m\u001b[0;34m\u001b[0m\u001b[0;34m\u001b[0m\u001b[0m\n\u001b[1;32m   1224\u001b[0m \u001b[0;34m\u001b[0m\u001b[0m\n\u001b[0;32m-> 1225\u001b[0;31m         \u001b[0;32mreturn\u001b[0m \u001b[0m_optimizer\u001b[0m\u001b[0;34m(\u001b[0m\u001b[0m_eval_mle\u001b[0m\u001b[0;34m,\u001b[0m \u001b[0margs\u001b[0m\u001b[0;34m=\u001b[0m\u001b[0;34m(\u001b[0m\u001b[0mx\u001b[0m\u001b[0;34m,\u001b[0m\u001b[0;34m)\u001b[0m\u001b[0;34m)\u001b[0m\u001b[0;34m\u001b[0m\u001b[0;34m\u001b[0m\u001b[0m\n\u001b[0m\u001b[1;32m   1226\u001b[0m \u001b[0;34m\u001b[0m\u001b[0m\n\u001b[1;32m   1227\u001b[0m     \u001b[0;32mdef\u001b[0m \u001b[0m_all\u001b[0m\u001b[0;34m(\u001b[0m\u001b[0mx\u001b[0m\u001b[0;34m)\u001b[0m\u001b[0;34m:\u001b[0m\u001b[0;34m\u001b[0m\u001b[0;34m\u001b[0m\u001b[0m\n",
            "\u001b[0;32m/usr/local/lib/python3.7/dist-packages/scipy/stats/morestats.py\u001b[0m in \u001b[0;36m_optimizer\u001b[0;34m(func, args)\u001b[0m\n\u001b[1;32m   1185\u001b[0m \u001b[0;34m\u001b[0m\u001b[0m\n\u001b[1;32m   1186\u001b[0m         \u001b[0;32mdef\u001b[0m \u001b[0m_optimizer\u001b[0m\u001b[0;34m(\u001b[0m\u001b[0mfunc\u001b[0m\u001b[0;34m,\u001b[0m \u001b[0margs\u001b[0m\u001b[0;34m)\u001b[0m\u001b[0;34m:\u001b[0m\u001b[0;34m\u001b[0m\u001b[0;34m\u001b[0m\u001b[0m\n\u001b[0;32m-> 1187\u001b[0;31m             \u001b[0;32mreturn\u001b[0m \u001b[0moptimize\u001b[0m\u001b[0;34m.\u001b[0m\u001b[0mbrent\u001b[0m\u001b[0;34m(\u001b[0m\u001b[0mfunc\u001b[0m\u001b[0;34m,\u001b[0m \u001b[0margs\u001b[0m\u001b[0;34m=\u001b[0m\u001b[0margs\u001b[0m\u001b[0;34m,\u001b[0m \u001b[0mbrack\u001b[0m\u001b[0;34m=\u001b[0m\u001b[0mbrack\u001b[0m\u001b[0;34m)\u001b[0m\u001b[0;34m\u001b[0m\u001b[0;34m\u001b[0m\u001b[0m\n\u001b[0m\u001b[1;32m   1188\u001b[0m \u001b[0;34m\u001b[0m\u001b[0m\n\u001b[1;32m   1189\u001b[0m     \u001b[0;31m# Otherwise check optimizer.\u001b[0m\u001b[0;34m\u001b[0m\u001b[0;34m\u001b[0m\u001b[0;34m\u001b[0m\u001b[0m\n",
            "\u001b[0;32m/usr/local/lib/python3.7/dist-packages/scipy/optimize/optimize.py\u001b[0m in \u001b[0;36mbrent\u001b[0;34m(func, args, brack, tol, full_output, maxiter)\u001b[0m\n\u001b[1;32m   2362\u001b[0m     options = {'xtol': tol,\n\u001b[1;32m   2363\u001b[0m                'maxiter': maxiter}\n\u001b[0;32m-> 2364\u001b[0;31m     \u001b[0mres\u001b[0m \u001b[0;34m=\u001b[0m \u001b[0m_minimize_scalar_brent\u001b[0m\u001b[0;34m(\u001b[0m\u001b[0mfunc\u001b[0m\u001b[0;34m,\u001b[0m \u001b[0mbrack\u001b[0m\u001b[0;34m,\u001b[0m \u001b[0margs\u001b[0m\u001b[0;34m,\u001b[0m \u001b[0;34m**\u001b[0m\u001b[0moptions\u001b[0m\u001b[0;34m)\u001b[0m\u001b[0;34m\u001b[0m\u001b[0;34m\u001b[0m\u001b[0m\n\u001b[0m\u001b[1;32m   2365\u001b[0m     \u001b[0;32mif\u001b[0m \u001b[0mfull_output\u001b[0m\u001b[0;34m:\u001b[0m\u001b[0;34m\u001b[0m\u001b[0;34m\u001b[0m\u001b[0m\n\u001b[1;32m   2366\u001b[0m         \u001b[0;32mreturn\u001b[0m \u001b[0mres\u001b[0m\u001b[0;34m[\u001b[0m\u001b[0;34m'x'\u001b[0m\u001b[0;34m]\u001b[0m\u001b[0;34m,\u001b[0m \u001b[0mres\u001b[0m\u001b[0;34m[\u001b[0m\u001b[0;34m'fun'\u001b[0m\u001b[0;34m]\u001b[0m\u001b[0;34m,\u001b[0m \u001b[0mres\u001b[0m\u001b[0;34m[\u001b[0m\u001b[0;34m'nit'\u001b[0m\u001b[0;34m]\u001b[0m\u001b[0;34m,\u001b[0m \u001b[0mres\u001b[0m\u001b[0;34m[\u001b[0m\u001b[0;34m'nfev'\u001b[0m\u001b[0;34m]\u001b[0m\u001b[0;34m\u001b[0m\u001b[0;34m\u001b[0m\u001b[0m\n",
            "\u001b[0;32m/usr/local/lib/python3.7/dist-packages/scipy/optimize/optimize.py\u001b[0m in \u001b[0;36m_minimize_scalar_brent\u001b[0;34m(func, brack, args, xtol, maxiter, **unknown_options)\u001b[0m\n\u001b[1;32m   2394\u001b[0m                   full_output=True, maxiter=maxiter)\n\u001b[1;32m   2395\u001b[0m     \u001b[0mbrent\u001b[0m\u001b[0;34m.\u001b[0m\u001b[0mset_bracket\u001b[0m\u001b[0;34m(\u001b[0m\u001b[0mbrack\u001b[0m\u001b[0;34m)\u001b[0m\u001b[0;34m\u001b[0m\u001b[0;34m\u001b[0m\u001b[0m\n\u001b[0;32m-> 2396\u001b[0;31m     \u001b[0mbrent\u001b[0m\u001b[0;34m.\u001b[0m\u001b[0moptimize\u001b[0m\u001b[0;34m(\u001b[0m\u001b[0;34m)\u001b[0m\u001b[0;34m\u001b[0m\u001b[0;34m\u001b[0m\u001b[0m\n\u001b[0m\u001b[1;32m   2397\u001b[0m     \u001b[0mx\u001b[0m\u001b[0;34m,\u001b[0m \u001b[0mfval\u001b[0m\u001b[0;34m,\u001b[0m \u001b[0mnit\u001b[0m\u001b[0;34m,\u001b[0m \u001b[0mnfev\u001b[0m \u001b[0;34m=\u001b[0m \u001b[0mbrent\u001b[0m\u001b[0;34m.\u001b[0m\u001b[0mget_result\u001b[0m\u001b[0;34m(\u001b[0m\u001b[0mfull_output\u001b[0m\u001b[0;34m=\u001b[0m\u001b[0;32mTrue\u001b[0m\u001b[0;34m)\u001b[0m\u001b[0;34m\u001b[0m\u001b[0;34m\u001b[0m\u001b[0m\n\u001b[1;32m   2398\u001b[0m \u001b[0;34m\u001b[0m\u001b[0m\n",
            "\u001b[0;32m/usr/local/lib/python3.7/dist-packages/scipy/optimize/optimize.py\u001b[0m in \u001b[0;36moptimize\u001b[0;34m(self)\u001b[0m\n\u001b[1;32m   2178\u001b[0m         \u001b[0;31m# set up for optimization\u001b[0m\u001b[0;34m\u001b[0m\u001b[0;34m\u001b[0m\u001b[0;34m\u001b[0m\u001b[0m\n\u001b[1;32m   2179\u001b[0m         \u001b[0mfunc\u001b[0m \u001b[0;34m=\u001b[0m \u001b[0mself\u001b[0m\u001b[0;34m.\u001b[0m\u001b[0mfunc\u001b[0m\u001b[0;34m\u001b[0m\u001b[0;34m\u001b[0m\u001b[0m\n\u001b[0;32m-> 2180\u001b[0;31m         \u001b[0mxa\u001b[0m\u001b[0;34m,\u001b[0m \u001b[0mxb\u001b[0m\u001b[0;34m,\u001b[0m \u001b[0mxc\u001b[0m\u001b[0;34m,\u001b[0m \u001b[0mfa\u001b[0m\u001b[0;34m,\u001b[0m \u001b[0mfb\u001b[0m\u001b[0;34m,\u001b[0m \u001b[0mfc\u001b[0m\u001b[0;34m,\u001b[0m \u001b[0mfuncalls\u001b[0m \u001b[0;34m=\u001b[0m \u001b[0mself\u001b[0m\u001b[0;34m.\u001b[0m\u001b[0mget_bracket_info\u001b[0m\u001b[0;34m(\u001b[0m\u001b[0;34m)\u001b[0m\u001b[0;34m\u001b[0m\u001b[0;34m\u001b[0m\u001b[0m\n\u001b[0m\u001b[1;32m   2181\u001b[0m         \u001b[0m_mintol\u001b[0m \u001b[0;34m=\u001b[0m \u001b[0mself\u001b[0m\u001b[0;34m.\u001b[0m\u001b[0m_mintol\u001b[0m\u001b[0;34m\u001b[0m\u001b[0;34m\u001b[0m\u001b[0m\n\u001b[1;32m   2182\u001b[0m         \u001b[0m_cg\u001b[0m \u001b[0;34m=\u001b[0m \u001b[0mself\u001b[0m\u001b[0;34m.\u001b[0m\u001b[0m_cg\u001b[0m\u001b[0;34m\u001b[0m\u001b[0;34m\u001b[0m\u001b[0m\n",
            "\u001b[0;32m/usr/local/lib/python3.7/dist-packages/scipy/optimize/optimize.py\u001b[0m in \u001b[0;36mget_bracket_info\u001b[0;34m(self)\u001b[0m\n\u001b[1;32m   2155\u001b[0m         \u001b[0;32melif\u001b[0m \u001b[0mlen\u001b[0m\u001b[0;34m(\u001b[0m\u001b[0mbrack\u001b[0m\u001b[0;34m)\u001b[0m \u001b[0;34m==\u001b[0m \u001b[0;36m2\u001b[0m\u001b[0;34m:\u001b[0m\u001b[0;34m\u001b[0m\u001b[0;34m\u001b[0m\u001b[0m\n\u001b[1;32m   2156\u001b[0m             xa, xb, xc, fa, fb, fc, funcalls = bracket(func, xa=brack[0],\n\u001b[0;32m-> 2157\u001b[0;31m                                                        xb=brack[1], args=args)\n\u001b[0m\u001b[1;32m   2158\u001b[0m         \u001b[0;32melif\u001b[0m \u001b[0mlen\u001b[0m\u001b[0;34m(\u001b[0m\u001b[0mbrack\u001b[0m\u001b[0;34m)\u001b[0m \u001b[0;34m==\u001b[0m \u001b[0;36m3\u001b[0m\u001b[0;34m:\u001b[0m\u001b[0;34m\u001b[0m\u001b[0;34m\u001b[0m\u001b[0m\n\u001b[1;32m   2159\u001b[0m             \u001b[0mxa\u001b[0m\u001b[0;34m,\u001b[0m \u001b[0mxb\u001b[0m\u001b[0;34m,\u001b[0m \u001b[0mxc\u001b[0m \u001b[0;34m=\u001b[0m \u001b[0mbrack\u001b[0m\u001b[0;34m\u001b[0m\u001b[0;34m\u001b[0m\u001b[0m\n",
            "\u001b[0;32m/usr/local/lib/python3.7/dist-packages/scipy/optimize/optimize.py\u001b[0m in \u001b[0;36mbracket\u001b[0;34m(func, xa, xb, args, grow_limit, maxiter)\u001b[0m\n\u001b[1;32m   2638\u001b[0m                 \u001b[0;32mreturn\u001b[0m \u001b[0mxa\u001b[0m\u001b[0;34m,\u001b[0m \u001b[0mxb\u001b[0m\u001b[0;34m,\u001b[0m \u001b[0mxc\u001b[0m\u001b[0;34m,\u001b[0m \u001b[0mfa\u001b[0m\u001b[0;34m,\u001b[0m \u001b[0mfb\u001b[0m\u001b[0;34m,\u001b[0m \u001b[0mfc\u001b[0m\u001b[0;34m,\u001b[0m \u001b[0mfuncalls\u001b[0m\u001b[0;34m\u001b[0m\u001b[0;34m\u001b[0m\u001b[0m\n\u001b[1;32m   2639\u001b[0m             \u001b[0mw\u001b[0m \u001b[0;34m=\u001b[0m \u001b[0mxc\u001b[0m \u001b[0;34m+\u001b[0m \u001b[0m_gold\u001b[0m \u001b[0;34m*\u001b[0m \u001b[0;34m(\u001b[0m\u001b[0mxc\u001b[0m \u001b[0;34m-\u001b[0m \u001b[0mxb\u001b[0m\u001b[0;34m)\u001b[0m\u001b[0;34m\u001b[0m\u001b[0;34m\u001b[0m\u001b[0m\n\u001b[0;32m-> 2640\u001b[0;31m             \u001b[0mfw\u001b[0m \u001b[0;34m=\u001b[0m \u001b[0mfunc\u001b[0m\u001b[0;34m(\u001b[0m\u001b[0;34m*\u001b[0m\u001b[0;34m(\u001b[0m\u001b[0;34m(\u001b[0m\u001b[0mw\u001b[0m\u001b[0;34m,\u001b[0m\u001b[0;34m)\u001b[0m \u001b[0;34m+\u001b[0m \u001b[0margs\u001b[0m\u001b[0;34m)\u001b[0m\u001b[0;34m)\u001b[0m\u001b[0;34m\u001b[0m\u001b[0;34m\u001b[0m\u001b[0m\n\u001b[0m\u001b[1;32m   2641\u001b[0m             \u001b[0mfuncalls\u001b[0m \u001b[0;34m+=\u001b[0m \u001b[0;36m1\u001b[0m\u001b[0;34m\u001b[0m\u001b[0;34m\u001b[0m\u001b[0m\n\u001b[1;32m   2642\u001b[0m         \u001b[0;32melif\u001b[0m \u001b[0;34m(\u001b[0m\u001b[0mw\u001b[0m \u001b[0;34m-\u001b[0m \u001b[0mwlim\u001b[0m\u001b[0;34m)\u001b[0m\u001b[0;34m*\u001b[0m\u001b[0;34m(\u001b[0m\u001b[0mwlim\u001b[0m \u001b[0;34m-\u001b[0m \u001b[0mxc\u001b[0m\u001b[0;34m)\u001b[0m \u001b[0;34m>=\u001b[0m \u001b[0;36m0.0\u001b[0m\u001b[0;34m:\u001b[0m\u001b[0;34m\u001b[0m\u001b[0;34m\u001b[0m\u001b[0m\n",
            "\u001b[0;32m/usr/local/lib/python3.7/dist-packages/scipy/stats/morestats.py\u001b[0m in \u001b[0;36m_eval_mle\u001b[0;34m(lmb, data)\u001b[0m\n\u001b[1;32m   1221\u001b[0m         \u001b[0;32mdef\u001b[0m \u001b[0m_eval_mle\u001b[0m\u001b[0;34m(\u001b[0m\u001b[0mlmb\u001b[0m\u001b[0;34m,\u001b[0m \u001b[0mdata\u001b[0m\u001b[0;34m)\u001b[0m\u001b[0;34m:\u001b[0m\u001b[0;34m\u001b[0m\u001b[0;34m\u001b[0m\u001b[0m\n\u001b[1;32m   1222\u001b[0m             \u001b[0;31m# function to minimize\u001b[0m\u001b[0;34m\u001b[0m\u001b[0;34m\u001b[0m\u001b[0;34m\u001b[0m\u001b[0m\n\u001b[0;32m-> 1223\u001b[0;31m             \u001b[0;32mreturn\u001b[0m \u001b[0;34m-\u001b[0m\u001b[0mboxcox_llf\u001b[0m\u001b[0;34m(\u001b[0m\u001b[0mlmb\u001b[0m\u001b[0;34m,\u001b[0m \u001b[0mdata\u001b[0m\u001b[0;34m)\u001b[0m\u001b[0;34m\u001b[0m\u001b[0;34m\u001b[0m\u001b[0m\n\u001b[0m\u001b[1;32m   1224\u001b[0m \u001b[0;34m\u001b[0m\u001b[0m\n\u001b[1;32m   1225\u001b[0m         \u001b[0;32mreturn\u001b[0m \u001b[0m_optimizer\u001b[0m\u001b[0;34m(\u001b[0m\u001b[0m_eval_mle\u001b[0m\u001b[0;34m,\u001b[0m \u001b[0margs\u001b[0m\u001b[0;34m=\u001b[0m\u001b[0;34m(\u001b[0m\u001b[0mx\u001b[0m\u001b[0;34m,\u001b[0m\u001b[0;34m)\u001b[0m\u001b[0;34m)\u001b[0m\u001b[0;34m\u001b[0m\u001b[0;34m\u001b[0m\u001b[0m\n",
            "\u001b[0;32m/usr/local/lib/python3.7/dist-packages/scipy/stats/morestats.py\u001b[0m in \u001b[0;36mboxcox_llf\u001b[0;34m(lmb, data)\u001b[0m\n\u001b[1;32m    910\u001b[0m         \u001b[0;31m# not effect the variance, and the subtraction of the offset can\u001b[0m\u001b[0;34m\u001b[0m\u001b[0;34m\u001b[0m\u001b[0;34m\u001b[0m\u001b[0m\n\u001b[1;32m    911\u001b[0m         \u001b[0;31m# lead to loss of precision.\u001b[0m\u001b[0;34m\u001b[0m\u001b[0;34m\u001b[0m\u001b[0;34m\u001b[0m\u001b[0m\n\u001b[0;32m--> 912\u001b[0;31m         \u001b[0mvariance\u001b[0m \u001b[0;34m=\u001b[0m \u001b[0mnp\u001b[0m\u001b[0;34m.\u001b[0m\u001b[0mvar\u001b[0m\u001b[0;34m(\u001b[0m\u001b[0mdata\u001b[0m\u001b[0;34m**\u001b[0m\u001b[0mlmb\u001b[0m \u001b[0;34m/\u001b[0m \u001b[0mlmb\u001b[0m\u001b[0;34m,\u001b[0m \u001b[0maxis\u001b[0m\u001b[0;34m=\u001b[0m\u001b[0;36m0\u001b[0m\u001b[0;34m)\u001b[0m\u001b[0;34m\u001b[0m\u001b[0;34m\u001b[0m\u001b[0m\n\u001b[0m\u001b[1;32m    913\u001b[0m \u001b[0;34m\u001b[0m\u001b[0m\n\u001b[1;32m    914\u001b[0m     \u001b[0;32mreturn\u001b[0m \u001b[0;34m(\u001b[0m\u001b[0mlmb\u001b[0m \u001b[0;34m-\u001b[0m \u001b[0;36m1\u001b[0m\u001b[0;34m)\u001b[0m \u001b[0;34m*\u001b[0m \u001b[0mnp\u001b[0m\u001b[0;34m.\u001b[0m\u001b[0msum\u001b[0m\u001b[0;34m(\u001b[0m\u001b[0mlogdata\u001b[0m\u001b[0;34m,\u001b[0m \u001b[0maxis\u001b[0m\u001b[0;34m=\u001b[0m\u001b[0;36m0\u001b[0m\u001b[0;34m)\u001b[0m \u001b[0;34m-\u001b[0m \u001b[0mN\u001b[0m\u001b[0;34m/\u001b[0m\u001b[0;36m2\u001b[0m \u001b[0;34m*\u001b[0m \u001b[0mnp\u001b[0m\u001b[0;34m.\u001b[0m\u001b[0mlog\u001b[0m\u001b[0;34m(\u001b[0m\u001b[0mvariance\u001b[0m\u001b[0;34m)\u001b[0m\u001b[0;34m\u001b[0m\u001b[0;34m\u001b[0m\u001b[0m\n",
            "\u001b[0;31mFloatingPointError\u001b[0m: underflow encountered in power"
          ]
        }
      ],
      "source": [
        "### reading testing dataset\n",
        "test = pd.read_csv(\"files/test.csv\")\n",
        "X_new = test.drop(['id_cliente','investe_exterior', 'pessoa_polit_exp'],axis=1)\n",
        "\n",
        "# X_new['investe_exterior'] = le_cat.transform(X_new['investe_exterior'].astype('str'))\n",
        "# X_new['pessoa_polit_exp'] = le_cat.transform(X_new['pessoa_polit_exp'].astype('str'))\n",
        "\n",
        "pipeline.fit(x_smote, y_smote)\n",
        "# Fazer a previsão do score usando o modelo final treinado:\n",
        "yhat_xgboost_ktest = pipeline.predict(X_new)\n",
        "\n",
        "# Preparação para submissão\n",
        "# Criar dataset final\n",
        "df_sub = pd.concat([test['id_cliente'], pd.Series(yhat_xgboost_ktest, name='limite_adicional')], axis=1)\n",
        "# Traduzir var resposta\n",
        "#lim_adi_dic_final = {0 : 'Negar', 1: 'Conceder'}\n",
        "lim_adi_dic_final = {1 : 'Negar', 0: 'Conceder'}\n",
        "\n",
        "df_sub['limite_adicional'] = df_sub['limite_adicional'].map( lim_adi_dic_final )\n",
        "# Visutalizar arquivo final para submissão ao Kaggle\n",
        "display(df_sub[:5])\n",
        "# Gerar export para submission no Kaggle\n",
        "df_sub.to_csv('gbc_minmax_sm.csv', index=False) "
      ]
    },
    {
      "cell_type": "code",
      "execution_count": null,
      "metadata": {
        "colab": {
          "base_uri": "https://localhost:8080/"
        },
        "id": "Qw1fstlB4aPu",
        "outputId": "19a567a9-7771-406f-eeb1-6594d6b06189"
      },
      "outputs": [
        {
          "data": {
            "text/plain": [
              "{'m__loss': 'deviance', 'm__max_depth': 3, 'm__n_estimators': 50}"
            ]
          },
          "execution_count": 666,
          "metadata": {},
          "output_type": "execute_result"
        }
      ],
      "source": [
        "parameters = {\n",
        "    \"m__loss\":[\"deviance\"],    \n",
        "    \"m__max_depth\":[3,5,10],    \n",
        "    \"m__n_estimators\":[10, 20, 50, 100]\n",
        "}\n",
        "# {'gb__loss': 'deviance', 'gb__max_depth': 3, 'gb__n_estimators': 50}\n",
        "\n",
        "# parameters = {\n",
        "#     \"gb__loss\":[\"deviance\"],\n",
        "#     # \"gb__learning_rate\": [0.01, 0.025, 0.05, 0.075, 0.1, 0.15, 0.2],\n",
        "#     \"gb__max_depth\":[3],\n",
        "#     # \"gb__subsample\":[0.5, 0.618, 0.8, 0.85, 0.9, 0.95, 1.0],\n",
        "#     \"gb__n_estimators\":[50],\n",
        "#     # \"min_samples_split\": np.linspace(0.1, 0.5, 12),\n",
        "#     # \"min_samples_leaf\": np.linspace(0.1, 0.5, 12),    \n",
        "#     \"max_features\":[\"log2\",\"sqrt\"],\n",
        "#     \"criterion\": [\"friedman_mse\",  \"mae\"],\n",
        "    \n",
        "#     }\n",
        "\n",
        "scaler = MinMaxScaler(feature_range=(1, 2))\n",
        "power = PowerTransformer(method='box-cox')\n",
        "model = GradientBoostingClassifier(random_state=42)\n",
        "# model = XGBClassifier(random_state=42)\n",
        "pipeline = Pipeline(steps=[('s', scaler),('p', power), ('m', model)])\n",
        "\n",
        "\n",
        "kfold = KFold(n_splits=10, shuffle=True, random_state=42)\n",
        "grid = GridSearchCV(pipeline, param_grid=parameters, cv=kfold, n_jobs=-1)\n",
        "grid.fit(X, y)\n",
        "grid.best_params_ "
      ]
    },
    {
      "cell_type": "markdown",
      "metadata": {
        "id": "Chl7X0ZfvkSa"
      },
      "source": [
        "## 7.1. Arvore de Decisão"
      ]
    },
    {
      "cell_type": "code",
      "execution_count": null,
      "metadata": {
        "id": "siXU_zNhDLkq"
      },
      "outputs": [],
      "source": [
        "model_tree = Pipeline(steps=[\n",
        "    ('preprocessor', preprocessor),\n",
        "    ('DecisionTreeClassifier', DecisionTreeClassifier(random_state=42))\n",
        "])\n",
        "\n",
        "# treinando o modelo\n",
        "model_tree.fit(X_train, y_train)\n",
        "\n",
        "if AMBIENTE_DEV:\n",
        "    yhat_tree = model_tree.predict(X_test)\n",
        "\n",
        "    # Gerando resultados\n",
        "    # print(classification_report(yhat_tree, y_test))\n",
        "\n",
        "    resultados = resultado('DecisionTreeClassifier',\n",
        "            model_tree.score(X_train, y_train), \n",
        "            model_tree.score(X_test, y_test),\n",
        "            classification_report(yhat_tree, y_test),\n",
        "            resultados)\n",
        "    # resultados.update({'tree_train': model_tree.score(X_train, y_train)})\n",
        "    # resultados.update({'tree_test': model_tree.score(X_test, y_test)})"
      ]
    },
    {
      "cell_type": "code",
      "execution_count": null,
      "metadata": {
        "id": "EmCvtAKVsrQ9"
      },
      "outputs": [],
      "source": [
        "# resultados['tree_train'] = 1#model_tree.score(X_train, y_train)\n",
        "# resultados['tree_test'] = 2#model_tree.score(X_test, y_test)\n",
        "# resultados"
      ]
    },
    {
      "cell_type": "code",
      "execution_count": null,
      "metadata": {
        "id": "ev0QZ5YMDOzE"
      },
      "outputs": [],
      "source": [
        "# # avaliando o modelo\n",
        "# train_score = model.score(X_train, y_train)\n",
        "# test_score = model.score(X_test, y_test)\n",
        "\n",
        "# print(\"Train score: {}\".format(train_score))\n",
        "# print(\"Test score: {}\".format(test_score))\n",
        "# # OUTPUT\n",
        "# # Train score: 0.8342696629213483\n",
        "# # Test score: 0.7988826815642458"
      ]
    },
    {
      "cell_type": "markdown",
      "metadata": {
        "id": "1aqI2_XPysPm"
      },
      "source": [
        "## 7.2. XGBoost"
      ]
    },
    {
      "cell_type": "code",
      "execution_count": null,
      "metadata": {
        "id": "ecIlDdFVonRV"
      },
      "outputs": [],
      "source": [
        "import xgboost as xgb\n",
        "\n",
        "model_xgb = Pipeline(steps=[\n",
        "    ('preprocessor', preprocessor),\n",
        "    ('XGBClassifier', xgb.XGBClassifier(random_state=42))\n",
        "])\n",
        "\n",
        "# # treinando o modelo\n",
        "# model_xgb.fit(X_train, y_train)\n",
        "\n",
        "# if AMBIENTE_DEV:\n",
        "#     yhat_xgb = model_xgb.predict(X_test)\n",
        "\n",
        "#     # Gerando resultados\n",
        "#     print(classification_report(yhat_tree, y_test));\n",
        "\n",
        "#     # resultados.update({'xgb_train': model_xgb.score(X_train, y_train)})\n",
        "#     # resultados.update({'xgb_test': model_xgb.score(X_test, y_test)})\n",
        "\n",
        "#     resultados = resultado('XGBClassifier', \n",
        "#             model_xgb.score(X_train, y_train), \n",
        "#             model_xgb.score(X_test, y_test),\n",
        "#             classification_report(yhat_xgb, y_test),\n",
        "#             resultados)"
      ]
    },
    {
      "cell_type": "code",
      "execution_count": null,
      "metadata": {
        "colab": {
          "base_uri": "https://localhost:8080/"
        },
        "id": "psKifPSGfdEH",
        "outputId": "11ef7734-9d5e-47be-b0dc-17a5c7f3eeac"
      },
      "outputs": [
        {
          "data": {
            "text/plain": [
              "0.8789473684210526"
            ]
          },
          "execution_count": 649,
          "metadata": {},
          "output_type": "execute_result"
        }
      ],
      "source": [
        "validacao_cruzada = KFold(n_splits=10, shuffle=True, random_state=42)\n",
        "scores = cross_val_score(model_xgb, X_train, y_train, cv=10)\n",
        "scores.mean()"
      ]
    },
    {
      "cell_type": "code",
      "execution_count": null,
      "metadata": {
        "id": "NKYNwZDOhm-Z"
      },
      "outputs": [],
      "source": []
    },
    {
      "cell_type": "code",
      "execution_count": null,
      "metadata": {
        "id": "vu4EPPNeZunu"
      },
      "outputs": [],
      "source": [
        "# sorted_idx = model_xgb[1].feature_importances_.argsort()\n",
        "# X_train.columns[sorted_idx]\n",
        "# model_xgb[1].feature_importances_[sorted_idx]\n",
        "# plt.barh(X_train.columns[sorted_idx], model_xgb[1].feature_importances_[sorted_idx])\n",
        "# plt.xlabel(\"Xgboost Feature Importance\")"
      ]
    },
    {
      "cell_type": "markdown",
      "metadata": {
        "id": "2mS_dBVozPmU"
      },
      "source": [
        "## 7.3. Extra Trees Classifier"
      ]
    },
    {
      "cell_type": "code",
      "execution_count": null,
      "metadata": {
        "id": "KRt8UTjhsQvy"
      },
      "outputs": [],
      "source": [
        "model_extratree = Pipeline(steps=[\n",
        "    ('preprocessor', preprocessor),\n",
        "    ('ExtraTreesClassifier', ExtraTreesClassifier(random_state=42))\n",
        "])\n",
        "\n",
        "# treinando o modelo\n",
        "model_extratree.fit(X_train, y_train)\n",
        "\n",
        "if AMBIENTE_DEV:\n",
        "    yhat_extratree = model_extratree.predict(X_test)\n",
        "\n",
        "    # Gerando resultados\n",
        "    # print(classification_report(yhat_extratree, y_test));\n",
        "    # resultados.update({'extratree_train': model_extratree.score(X_train, y_train)})\n",
        "    # resultados.update({'extratree_test': model_extratree.score(X_test, y_test)})\n",
        "    resultados = resultado('ExtraTreesClassifier', \n",
        "            model_extratree.score(X_train, y_train), \n",
        "            model_extratree.score(X_test, y_test),\n",
        "            classification_report(yhat_extratree, y_test),\n",
        "            resultados)"
      ]
    },
    {
      "cell_type": "markdown",
      "metadata": {
        "id": "qiRxcuwq0F-j"
      },
      "source": [
        "## 7.4. Regressão Logistica"
      ]
    },
    {
      "cell_type": "code",
      "execution_count": null,
      "metadata": {
        "id": "s-elZGwsuEJV"
      },
      "outputs": [],
      "source": [
        "model_lr = Pipeline(steps=[\n",
        "    ('preprocessor', preprocessor),\n",
        "    ('LogisticRegression', LogisticRegression(random_state=42))\n",
        "])\n",
        "\n",
        "# treinando o modelo\n",
        "model_lr.fit(X_train, y_train)\n",
        "\n",
        "if AMBIENTE_DEV:\n",
        "    yhat_lr = model_lr.predict(X_test)\n",
        "\n",
        "    # Gerando resultados\n",
        "    # print(classification_report(yhat_lr, y_test));\n",
        "    # resultados.update({'lr_train': model_lr.score(X_train, y_train)})\n",
        "    # resultados.update({'lr_test': model_lr.score(X_test, y_test)})\n",
        "\n",
        "    resultados = resultado('LogisticRegression', \n",
        "            model_lr.score(X_train, y_train), \n",
        "            model_lr.score(X_test, y_test),\n",
        "            classification_report(yhat_lr, y_test),\n",
        "            resultados)"
      ]
    },
    {
      "cell_type": "markdown",
      "metadata": {
        "id": "PRcKXnK30abR"
      },
      "source": [
        "## 7.5. Random Forest Classifier"
      ]
    },
    {
      "cell_type": "code",
      "execution_count": null,
      "metadata": {
        "id": "ha36iGEjuFII"
      },
      "outputs": [],
      "source": [
        "model_rf = Pipeline(steps=[\n",
        "    ('preprocessor', preprocessor),\n",
        "    ('RandomForest', RandomForestClassifier(random_state=42))\n",
        "])\n",
        "\n",
        "# treinando o modelo\n",
        "model_rf.fit(X_train, y_train)\n",
        "\n",
        "if AMBIENTE_DEV:\n",
        "    yhat_rf = model_rf.predict(X_test)\n",
        "\n",
        "    # Gerando resultados\n",
        "    # print(classification_report(yhat_rf, y_test));\n",
        "    # resultados.update({'rf_train': model_rf.score(X_train, y_train)})\n",
        "    # resultados.update({'rf_test': model_rf.score(X_test, y_test)})\n",
        "\n",
        "    resultados = resultado('RandomForest', \n",
        "            model_rf.score(X_train, y_train), \n",
        "            model_rf.score(X_test, y_test),\n",
        "            classification_report(yhat_rf, y_test),\n",
        "            resultados)"
      ]
    },
    {
      "cell_type": "markdown",
      "metadata": {
        "id": "VSzgrryzylAR"
      },
      "source": [
        "## 7.5. Gradient Boosting Classifier"
      ]
    },
    {
      "cell_type": "code",
      "execution_count": null,
      "metadata": {
        "id": "hGM6kEYBylAR"
      },
      "outputs": [],
      "source": [
        "model_gb = Pipeline(steps=[\n",
        "    ('preprocessor', preprocessor),\n",
        "    ('GradientBoosting', GradientBoostingClassifier(random_state=42))\n",
        "                                    # #     ccp_alpha=0.0, \n",
        "                                    # #   criterion='friedman_mse', \n",
        "                                    # #   init=None, \n",
        "                                    # #   learning_rate=0.1, \n",
        "                                    #   loss='deviance', \n",
        "                                    #   max_depth=3, \n",
        "                                    # #   max_features=None, \n",
        "                                    # #   max_leaf_nodes=None, \n",
        "                                    # #   min_impurity_decrease=0.0,                                     \n",
        "                                    # #   min_samples_leaf=1, \n",
        "                                    # #   min_samples_split=2, \n",
        "                                    # #   min_weight_fraction_leaf=0.0, \n",
        "                                    #   n_estimators=100, \n",
        "                                    #   random_state=42))\n",
        "])\n",
        "\n",
        "# treinando o modelo\n",
        "model_gb.fit(X_train, y_train)\n",
        "\n",
        "if AMBIENTE_DEV:\n",
        "    yhat_gb = model_gb.predict(X_test)\n",
        "\n",
        "    # Gerando resultados\n",
        "    # print(classification_report(yhat_gb, y_test));\n",
        "    # resultados.update({'gb_train': model_gb.score(X_train, y_train)})\n",
        "    # resultados.update({'gb_test': model_gb.score(X_test, y_test)})\n",
        "\n",
        "    resultados = resultado('GradientBoosting', \n",
        "            model_gb.score(X_train, y_train), \n",
        "            model_gb.score(X_test, y_test),\n",
        "            classification_report(yhat_gb, y_test),\n",
        "            resultados)"
      ]
    },
    {
      "cell_type": "markdown",
      "metadata": {
        "id": "KYKkU2sdbnhn"
      },
      "source": [
        "### aaaa"
      ]
    },
    {
      "cell_type": "code",
      "execution_count": null,
      "metadata": {
        "id": "Q9U4aUKdMogQ"
      },
      "outputs": [],
      "source": [
        "\n",
        "\n",
        "# smt = SMOTE(random_state=42)\n",
        "\n",
        "# model_gb = Pipeline(steps=[\n",
        "#     ('preprocessor', preprocessor),\n",
        "#     ('smt', smt),\n",
        "#     ('GradientBoosting', GradientBoostingClassifier(random_state=42))\n",
        "# ])\n",
        "\n",
        "# # treinando o modelo\n",
        "# saida = model_gb.fit(X_train, y_train)\n"
      ]
    },
    {
      "cell_type": "code",
      "execution_count": null,
      "metadata": {
        "colab": {
          "base_uri": "https://localhost:8080/"
        },
        "id": "X1I7YDmwRxja",
        "outputId": "154c27b2-a076-4345-80e4-4d275fd2406d"
      },
      "outputs": [
        {
          "data": {
            "text/plain": [
              "0.8771578947368421"
            ]
          },
          "execution_count": 493,
          "metadata": {},
          "output_type": "execute_result"
        }
      ],
      "source": [
        "# validacao_cruzada = KFold(n_splits=10, shuffle=True, random_state=42)\n",
        "# scores = cross_val_score(model_gb, X_train, y_train, cv=10)\n",
        "# scores.mean()"
      ]
    },
    {
      "cell_type": "code",
      "execution_count": null,
      "metadata": {
        "colab": {
          "base_uri": "https://localhost:8080/"
        },
        "id": "5B3GbmHWPdFa",
        "outputId": "00ca6a76-eddb-4fff-ead2-a31166884352"
      },
      "outputs": [
        {
          "name": "stdout",
          "output_type": "stream",
          "text": [
            "Original dataset shape Counter({1: 900, 0: 100})\n",
            "              precision    recall  f1-score   support\n",
            "\n",
            "           0       1.00      0.88      0.94        26\n",
            "           1       0.99      1.00      0.99       224\n",
            "\n",
            "    accuracy                           0.99       250\n",
            "   macro avg       0.99      0.94      0.97       250\n",
            "weighted avg       0.99      0.99      0.99       250\n",
            "\n"
          ]
        }
      ],
      "source": [
        "# from collections import Counter\n",
        "# from sklearn.datasets import make_classification\n",
        "# from sklearn.model_selection import train_test_split as tts\n",
        "# from sklearn.decomposition import PCA\n",
        "# from sklearn.neighbors import KNeighborsClassifier as KNN\n",
        "# from sklearn.metrics import classification_report\n",
        "# from imblearn.over_sampling import SMOTE\n",
        "# from imblearn.pipeline import Pipeline \n",
        "# X, y = make_classification(n_classes=2, class_sep=2,\n",
        "# weights=[0.1, 0.9], n_informative=3, n_redundant=1, flip_y=0,\n",
        "# n_features=20, n_clusters_per_class=1, n_samples=1000, random_state=10)\n",
        "# print(f'Original dataset shape {Counter(y)}')\n",
        "\n",
        "# pca = PCA()\n",
        "# smt = SMOTE(random_state=42)\n",
        "# knn = KNN()\n",
        "# knn = GradientBoostingClassifier(random_state=42)\n",
        "# pipeline = Pipeline([('smt', smt), ('pca', pca), ('knn', knn)])\n",
        "# X_train2, X_test2, y_train2, y_test2 = tts(X, y, random_state=42)\n",
        "# pipeline.fit(X_train2, y_train2) \n",
        "\n",
        "# y_hat = pipeline.predict(X_test)\n",
        "# print(classification_report(y_test, y_hat))"
      ]
    },
    {
      "cell_type": "markdown",
      "metadata": {
        "id": "my_c9in_4zBx"
      },
      "source": [
        "## 7.5. Comparação de Modelos"
      ]
    },
    {
      "cell_type": "code",
      "execution_count": null,
      "metadata": {
        "id": "geqZjQ-11DY9"
      },
      "outputs": [],
      "source": [
        "if AMBIENTE_DEV:\n",
        "    print(resultados.sort_values('teste', ascending=False).reset_index()['algoritmo'][0])\n",
        "    print(resultados.sort_values('teste', ascending=False).reset_index()['report'][0])\n",
        "    print(resultados.sort_values('teste', ascending=False).reset_index())\n",
        "    resultados.to_csv('resultado_treino_teste1.csv', index=False)"
      ]
    },
    {
      "cell_type": "code",
      "execution_count": null,
      "metadata": {
        "colab": {
          "base_uri": "https://localhost:8080/"
        },
        "id": "5nazFzByMu2Q",
        "outputId": "4fd81f6d-2446-4b9e-ec2c-aaf5253370de"
      },
      "outputs": [
        {
          "name": "stdout",
          "output_type": "stream",
          "text": [
            "***Modelo: GradientBoosting***\n",
            "F1 Weighted: 0.873 +/- 0.012\n",
            "Recall:      0.500 +/- 0.041\n",
            "Precision:   0.660 +/- 0.059\n",
            "F1 ALL: [0.85580594 0.87075134 0.87129334 0.86383335 0.86114021 0.8954195\n",
            " 0.85946824 0.88563459 0.87889193 0.88441921]\n",
            "\n"
          ]
        }
      ],
      "source": [
        "evaluate(model_gb, X_train, y_train, 10)"
      ]
    },
    {
      "cell_type": "code",
      "execution_count": null,
      "metadata": {
        "colab": {
          "base_uri": "https://localhost:8080/"
        },
        "id": "E6SOLxHT4AEa",
        "outputId": "5f11b9fb-5d5d-4475-bdbf-65201e2badba"
      },
      "outputs": [
        {
          "name": "stdout",
          "output_type": "stream",
          "text": [
            "***Modelo: GradientBoosting***\n",
            "F1 Weighted: 0.871 +/- 0.011\n",
            "Recall:      0.491 +/- 0.038\n",
            "Precision:   0.656 +/- 0.058\n",
            "F1 ALL: [0.85784376 0.86772038 0.86677732 0.86255206 0.85891846 0.89325804\n",
            " 0.86829262 0.8810939  0.87096987 0.8799574 ]\n",
            "\n"
          ]
        }
      ],
      "source": [
        "evaluate(model_gb, X_train, y_train, 10)\n"
      ]
    },
    {
      "cell_type": "code",
      "execution_count": null,
      "metadata": {
        "colab": {
          "base_uri": "https://localhost:8080/"
        },
        "id": "i1PXqVmEQ8gy",
        "outputId": "c9a6897e-dae5-4ae5-dd34-c372d448f767"
      },
      "outputs": [
        {
          "name": "stdout",
          "output_type": "stream",
          "text": [
            "***Modelo: DecisionTreeClassifier***\n",
            "F1 Weighted: 0.844 +/- 0.006\n",
            "Recall:      0.515 +/- 0.024\n",
            "Precision:   0.507 +/- 0.021\n",
            "F1 ALL: [0.83664477 0.84210526 0.84567928 0.84078115 0.85574595]\n",
            "\n",
            "***Modelo: XGBClassifier***\n",
            "F1 Weighted: 0.870 +/- 0.007\n",
            "Recall:      0.468 +/- 0.029\n",
            "Precision:   0.668 +/- 0.028\n",
            "F1 ALL: [0.86117664 0.86170482 0.87031242 0.87718943 0.87855822]\n",
            "\n",
            "***Modelo: ExtraTreesClassifier***\n",
            "F1 Weighted: 0.843 +/- 0.009\n",
            "Recall:      0.322 +/- 0.036\n",
            "Precision:   0.632 +/- 0.042\n",
            "F1 ALL: [0.83417402 0.83271487 0.84699679 0.84698459 0.85627701]\n",
            "\n",
            "***Modelo: LogisticRegression***\n",
            "F1 Weighted: 0.807 +/- 0.006\n",
            "Recall:      0.165 +/- 0.024\n",
            "Precision:   0.500 +/- 0.037\n",
            "F1 ALL: [0.7959119  0.80315291 0.80780904 0.8127581  0.81290019]\n",
            "\n",
            "***Modelo: RandomForest***\n",
            "F1 Weighted: 0.866 +/- 0.006\n",
            "Recall:      0.456 +/- 0.024\n",
            "Precision:   0.652 +/- 0.036\n",
            "F1 ALL: [0.85962923 0.85699097 0.86849365 0.87023722 0.87359173]\n",
            "\n",
            "***Modelo: GradientBoosting***\n",
            "F1 Weighted: 0.868 +/- 0.007\n",
            "Recall:      0.482 +/- 0.023\n",
            "Precision:   0.644 +/- 0.029\n",
            "F1 ALL: [0.85876268 0.86280984 0.87065038 0.86939799 0.87873287]\n",
            "\n"
          ]
        }
      ],
      "source": [
        "modelos = [model_tree, model_xgb, model_extratree, model_lr, model_rf, model_gb]\n",
        "\n",
        "# if AMBIENTE_DEV:\n",
        "for modelo in modelos:\n",
        "    evaluate(modelo, X_train, y_train, 5)"
      ]
    },
    {
      "cell_type": "markdown",
      "metadata": {
        "id": "uL9MFhqT4Dz5"
      },
      "source": [
        "***Modelo: DecisionTreeClassifier***\n",
        "F1 Weighted: 0.845 +/- 0.004\n",
        "Recall:      0.534 +/- 0.007\n",
        "Precision:   0.507 +/- 0.015\n",
        "F1 ALL: [0.839942   0.84307737 0.85010092 0.84472668 0.84862458]\n",
        "\n",
        "***Modelo: XGBClassifier***\n",
        "F1 Weighted: 0.869 +/- 0.007\n",
        "Recall:      0.457 +/- 0.022\n",
        "Precision:   0.672 +/- 0.039\n",
        "F1 ALL: [0.86056082 0.86002883 0.87519007 0.87293043 0.87470159]\n",
        "\n",
        "***Modelo: ExtraTreesClassifier***\n",
        "F1 Weighted: 0.860 +/- 0.004\n",
        "Recall:      0.385 +/- 0.013\n",
        "Precision:   0.692 +/- 0.035\n",
        "F1 ALL: [0.8573186  0.8542739  0.86442427 0.85922125 0.86434773]\n",
        "\n",
        "***Modelo: LogisticRegression***\n",
        "F1 Weighted: 0.852 +/- 0.009\n",
        "Recall:      0.375 +/- 0.039\n",
        "Precision:   0.633 +/- 0.033\n",
        "F1 ALL: [0.8522726  0.84262132 0.85384261 0.84374203 0.86706771]\n",
        "\n",
        "***Modelo: RandomForest***\n",
        "F1 Weighted: 0.866 +/- 0.006\n",
        "Recall:      0.439 +/- 0.021\n",
        "Precision:   0.674 +/- 0.051\n",
        "F1 ALL: [0.86131282 0.85705251 0.87423728 0.86657249 0.86999317]\n",
        "\n",
        "***Modelo: GradientBoosting***\n",
        "F1 Weighted: 0.867 +/- 0.006\n",
        "Recall:      0.474 +/- 0.023\n",
        "Precision:   0.645 +/- 0.028\n",
        "F1 ALL: [0.85962923 0.86099626 0.86764817 0.87227387 0.87585466]"
      ]
    },
    {
      "cell_type": "markdown",
      "metadata": {
        "id": "c-gZxtZ79DXR"
      },
      "source": [
        "## 7.6. Cross Validation"
      ]
    },
    {
      "cell_type": "markdown",
      "metadata": {
        "id": "u-XdDzkV6f2i"
      },
      "source": [
        "# 8.0. Hyperparameter Fine Tuning"
      ]
    },
    {
      "cell_type": "markdown",
      "metadata": {
        "id": "-CJwJWwC6f4X"
      },
      "source": [
        "## 8.1. Grid Search"
      ]
    },
    {
      "cell_type": "code",
      "execution_count": null,
      "metadata": {
        "id": "R3F6-FtIlEic"
      },
      "outputs": [],
      "source": [
        "\n",
        "parameters = {\n",
        "    \"gb__loss\":[\"deviance\"],    \n",
        "    \"gb__max_depth\":[3,5,10],    \n",
        "    \"gb__n_estimators\":[10, 20, 50, 100, 500]\n",
        "}\n",
        "# {'gb__loss': 'deviance', 'gb__max_depth': 3, 'gb__n_estimators': 50}\n",
        "\n",
        "parameters = {\n",
        "    \"gb__loss\":[\"deviance\"],\n",
        "    # \"gb__learning_rate\": [0.01, 0.025, 0.05, 0.075, 0.1, 0.15, 0.2],\n",
        "    \"gb__max_depth\":[3],\n",
        "    # \"gb__subsample\":[0.5, 0.618, 0.8, 0.85, 0.9, 0.95, 1.0],\n",
        "    \"gb__n_estimators\":[50],\n",
        "    # \"min_samples_split\": np.linspace(0.1, 0.5, 12),\n",
        "    # \"min_samples_leaf\": np.linspace(0.1, 0.5, 12),    \n",
        "    \"max_features\":[\"log2\",\"sqrt\"],\n",
        "    \"criterion\": [\"friedman_mse\",  \"mae\"],\n",
        "    \n",
        "    }\n",
        "\n",
        "# parameters = {'n_estimators': [10, 20]}\n",
        "# def modelo_parameters(modelo, parametros):\n",
        "#     for i in parametros.keys():\n",
        "#         print(i)\n",
        "\n",
        "# modelo_parameters('gb', parameters)\n"
      ]
    },
    {
      "cell_type": "code",
      "execution_count": null,
      "metadata": {
        "id": "I8-5JiNqlH40"
      },
      "outputs": [],
      "source": [
        "model_gs = Pipeline(steps=[\n",
        "    ('preprocessor', preprocessor),\n",
        "    ('gb', GradientBoostingClassifier(random_state=42))\n",
        "])\n",
        "\n",
        "kfold = KFold(n_splits=5, shuffle=True, random_state=42)\n",
        "grid = GridSearchCV(model_gs, param_grid=parameters, cv=kfold, n_jobs=-1)\n",
        "grid.fit(X=X_train, y=y_train)\n",
        "grid.best_params_ "
      ]
    },
    {
      "cell_type": "code",
      "execution_count": null,
      "metadata": {
        "id": "oFn4oSJbYvp6"
      },
      "outputs": [],
      "source": [
        "# {'gb__loss': 'deviance', 'gb__max_depth': 3, 'gb__n_estimators': 50}"
      ]
    },
    {
      "cell_type": "markdown",
      "metadata": {
        "id": "XyPy6HRp6f6j"
      },
      "source": [
        "## 8.2. Modelo Final"
      ]
    },
    {
      "cell_type": "markdown",
      "metadata": {
        "id": "l5aDUJkz6f86"
      },
      "source": [
        "# 9.0. Aplicando nos Dados de Teste"
      ]
    },
    {
      "cell_type": "markdown",
      "metadata": {
        "id": "EEWbpndnNRRz"
      },
      "source": [
        "## Classificação dados de Validação e submissão"
      ]
    },
    {
      "cell_type": "code",
      "execution_count": null,
      "metadata": {
        "id": "c3zlx35cKP4t"
      },
      "outputs": [],
      "source": [
        "# modelos = [model_tree, model_xgb, model_extratree, model_lr, model_rf, model_gb]\n",
        "modelo_final = model_rf\n",
        "\n",
        "if not AMBIENTE_DEV:\n",
        "    yhat_final = modelo_final.predict(df_validacao)\n",
        "\n",
        "    submissao = pd.DataFrame(yhat_final, columns=['limite_adicional'])\n",
        "    submissao['id_cliente'] = df_validacao['id_cliente'].reset_index(drop=True)\n",
        "    submissao = submissao[['id_cliente', 'limite_adicional']]\n",
        "    \n",
        "    # Traduzir var resposta\n",
        "    lim_adi_dic_final = {0 : 'Negar', 1: 'Conceder'}\n",
        "    submissao['limite_adicional'] = submissao['limite_adicional'].map(lim_adi_dic_final)\n",
        "    \n",
        "    # Salva em arquivo\n",
        "    submissao.to_csv(f'submission_{list(modelo_final.named_steps.keys())[1]}.csv', index=False)\n",
        "    print(submissao)"
      ]
    },
    {
      "cell_type": "code",
      "execution_count": null,
      "metadata": {
        "id": "IsIoDgcnZWg7"
      },
      "outputs": [],
      "source": [
        "#  RandomForest\n",
        "#  GradientBoosting\n",
        "#  XGBClassifier "
      ]
    },
    {
      "cell_type": "code",
      "execution_count": null,
      "metadata": {
        "id": "dHDXwJ4Hnb38"
      },
      "outputs": [],
      "source": []
    },
    {
      "cell_type": "code",
      "execution_count": null,
      "metadata": {
        "id": "pFzYVRksoCL4"
      },
      "outputs": [],
      "source": [
        "type(df['Survived'])"
      ]
    },
    {
      "cell_type": "code",
      "execution_count": null,
      "metadata": {
        "id": "B2bbjbZroH8o"
      },
      "outputs": [],
      "source": [
        "\n",
        "type(y_train)"
      ]
    }
  ],
  "metadata": {
    "accelerator": "GPU",
    "colab": {
      "provenance": []
    },
    "gpuClass": "standard",
    "kernelspec": {
      "display_name": "Python 3",
      "name": "python3"
    },
    "language_info": {
      "codemirror_mode": {
        "name": "ipython",
        "version": 3
      },
      "file_extension": ".py",
      "mimetype": "text/x-python",
      "name": "python",
      "nbconvert_exporter": "python",
      "pygments_lexer": "ipython3",
      "version": "3.10.12"
    },
    "widgets": {
      "application/vnd.jupyter.widget-state+json": {
        "163d91bd2b83426ba6bdec34b0b93bae": {
          "model_module": "@jupyter-widgets/base",
          "model_module_version": "1.2.0",
          "model_name": "LayoutModel",
          "state": {
            "_model_module": "@jupyter-widgets/base",
            "_model_module_version": "1.2.0",
            "_model_name": "LayoutModel",
            "_view_count": null,
            "_view_module": "@jupyter-widgets/base",
            "_view_module_version": "1.2.0",
            "_view_name": "LayoutView",
            "align_content": null,
            "align_items": null,
            "align_self": null,
            "border": null,
            "bottom": null,
            "display": null,
            "flex": null,
            "flex_flow": null,
            "grid_area": null,
            "grid_auto_columns": null,
            "grid_auto_flow": null,
            "grid_auto_rows": null,
            "grid_column": null,
            "grid_gap": null,
            "grid_row": null,
            "grid_template_areas": null,
            "grid_template_columns": null,
            "grid_template_rows": null,
            "height": null,
            "justify_content": null,
            "justify_items": null,
            "left": null,
            "margin": null,
            "max_height": null,
            "max_width": null,
            "min_height": null,
            "min_width": null,
            "object_fit": null,
            "object_position": null,
            "order": null,
            "overflow": null,
            "overflow_x": null,
            "overflow_y": null,
            "padding": null,
            "right": null,
            "top": null,
            "visibility": null,
            "width": null
          }
        },
        "41363880cfc9456fbe1e40efc3129a79": {
          "model_module": "@jupyter-widgets/controls",
          "model_module_version": "1.5.0",
          "model_name": "HTMLModel",
          "state": {
            "_dom_classes": [],
            "_model_module": "@jupyter-widgets/controls",
            "_model_module_version": "1.5.0",
            "_model_name": "HTMLModel",
            "_view_count": null,
            "_view_module": "@jupyter-widgets/controls",
            "_view_module_version": "1.5.0",
            "_view_name": "HTMLView",
            "description": "",
            "description_tooltip": null,
            "layout": "IPY_MODEL_163d91bd2b83426ba6bdec34b0b93bae",
            "placeholder": "​",
            "style": "IPY_MODEL_49ab8216c4b84a18bcc7b6fc25d23d93",
            "value": "Done! Use &#x27;show&#x27; commands to display/save.   "
          }
        },
        "4285899875084da3a13efefdad212cee": {
          "model_module": "@jupyter-widgets/controls",
          "model_module_version": "1.5.0",
          "model_name": "HBoxModel",
          "state": {
            "_dom_classes": [],
            "_model_module": "@jupyter-widgets/controls",
            "_model_module_version": "1.5.0",
            "_model_name": "HBoxModel",
            "_view_count": null,
            "_view_module": "@jupyter-widgets/controls",
            "_view_module_version": "1.5.0",
            "_view_name": "HBoxView",
            "box_style": "",
            "children": [
              "IPY_MODEL_41363880cfc9456fbe1e40efc3129a79",
              "IPY_MODEL_ebec506b92cf4e3dbd33851fa8284e06",
              "IPY_MODEL_5aed39aead844d55b074d78fcb58f11d"
            ],
            "layout": "IPY_MODEL_df6c1841446348cb9d62d476dcfb09f1"
          }
        },
        "49ab8216c4b84a18bcc7b6fc25d23d93": {
          "model_module": "@jupyter-widgets/controls",
          "model_module_version": "1.5.0",
          "model_name": "DescriptionStyleModel",
          "state": {
            "_model_module": "@jupyter-widgets/controls",
            "_model_module_version": "1.5.0",
            "_model_name": "DescriptionStyleModel",
            "_view_count": null,
            "_view_module": "@jupyter-widgets/base",
            "_view_module_version": "1.2.0",
            "_view_name": "StyleView",
            "description_width": ""
          }
        },
        "5aed39aead844d55b074d78fcb58f11d": {
          "model_module": "@jupyter-widgets/controls",
          "model_module_version": "1.5.0",
          "model_name": "HTMLModel",
          "state": {
            "_dom_classes": [],
            "_model_module": "@jupyter-widgets/controls",
            "_model_module_version": "1.5.0",
            "_model_name": "HTMLModel",
            "_view_count": null,
            "_view_module": "@jupyter-widgets/controls",
            "_view_module_version": "1.5.0",
            "_view_name": "HTMLView",
            "description": "",
            "description_tooltip": null,
            "layout": "IPY_MODEL_ab1ba5e6e4754f089632bdaa5a4ce865",
            "placeholder": "​",
            "style": "IPY_MODEL_7e8cefdbcecb4f23b631315134fff2bd",
            "value": " [100%]   00:00 -&gt; (00:00 left)"
          }
        },
        "5e892045e9e84ffe990d0aa0ad4ed0fe": {
          "model_module": "@jupyter-widgets/base",
          "model_module_version": "1.2.0",
          "model_name": "LayoutModel",
          "state": {
            "_model_module": "@jupyter-widgets/base",
            "_model_module_version": "1.2.0",
            "_model_name": "LayoutModel",
            "_view_count": null,
            "_view_module": "@jupyter-widgets/base",
            "_view_module_version": "1.2.0",
            "_view_name": "LayoutView",
            "align_content": null,
            "align_items": null,
            "align_self": null,
            "border": null,
            "bottom": null,
            "display": null,
            "flex": "2",
            "flex_flow": null,
            "grid_area": null,
            "grid_auto_columns": null,
            "grid_auto_flow": null,
            "grid_auto_rows": null,
            "grid_column": null,
            "grid_gap": null,
            "grid_row": null,
            "grid_template_areas": null,
            "grid_template_columns": null,
            "grid_template_rows": null,
            "height": null,
            "justify_content": null,
            "justify_items": null,
            "left": null,
            "margin": null,
            "max_height": null,
            "max_width": null,
            "min_height": null,
            "min_width": null,
            "object_fit": null,
            "object_position": null,
            "order": null,
            "overflow": null,
            "overflow_x": null,
            "overflow_y": null,
            "padding": null,
            "right": null,
            "top": null,
            "visibility": null,
            "width": null
          }
        },
        "7e8cefdbcecb4f23b631315134fff2bd": {
          "model_module": "@jupyter-widgets/controls",
          "model_module_version": "1.5.0",
          "model_name": "DescriptionStyleModel",
          "state": {
            "_model_module": "@jupyter-widgets/controls",
            "_model_module_version": "1.5.0",
            "_model_name": "DescriptionStyleModel",
            "_view_count": null,
            "_view_module": "@jupyter-widgets/base",
            "_view_module_version": "1.2.0",
            "_view_name": "StyleView",
            "description_width": ""
          }
        },
        "ab1ba5e6e4754f089632bdaa5a4ce865": {
          "model_module": "@jupyter-widgets/base",
          "model_module_version": "1.2.0",
          "model_name": "LayoutModel",
          "state": {
            "_model_module": "@jupyter-widgets/base",
            "_model_module_version": "1.2.0",
            "_model_name": "LayoutModel",
            "_view_count": null,
            "_view_module": "@jupyter-widgets/base",
            "_view_module_version": "1.2.0",
            "_view_name": "LayoutView",
            "align_content": null,
            "align_items": null,
            "align_self": null,
            "border": null,
            "bottom": null,
            "display": null,
            "flex": null,
            "flex_flow": null,
            "grid_area": null,
            "grid_auto_columns": null,
            "grid_auto_flow": null,
            "grid_auto_rows": null,
            "grid_column": null,
            "grid_gap": null,
            "grid_row": null,
            "grid_template_areas": null,
            "grid_template_columns": null,
            "grid_template_rows": null,
            "height": null,
            "justify_content": null,
            "justify_items": null,
            "left": null,
            "margin": null,
            "max_height": null,
            "max_width": null,
            "min_height": null,
            "min_width": null,
            "object_fit": null,
            "object_position": null,
            "order": null,
            "overflow": null,
            "overflow_x": null,
            "overflow_y": null,
            "padding": null,
            "right": null,
            "top": null,
            "visibility": null,
            "width": null
          }
        },
        "bb232737e4ea412094d8c595ed230dff": {
          "model_module": "@jupyter-widgets/controls",
          "model_module_version": "1.5.0",
          "model_name": "ProgressStyleModel",
          "state": {
            "_model_module": "@jupyter-widgets/controls",
            "_model_module_version": "1.5.0",
            "_model_name": "ProgressStyleModel",
            "_view_count": null,
            "_view_module": "@jupyter-widgets/base",
            "_view_module_version": "1.2.0",
            "_view_name": "StyleView",
            "bar_color": null,
            "description_width": ""
          }
        },
        "df6c1841446348cb9d62d476dcfb09f1": {
          "model_module": "@jupyter-widgets/base",
          "model_module_version": "1.2.0",
          "model_name": "LayoutModel",
          "state": {
            "_model_module": "@jupyter-widgets/base",
            "_model_module_version": "1.2.0",
            "_model_name": "LayoutModel",
            "_view_count": null,
            "_view_module": "@jupyter-widgets/base",
            "_view_module_version": "1.2.0",
            "_view_name": "LayoutView",
            "align_content": null,
            "align_items": null,
            "align_self": null,
            "border": null,
            "bottom": null,
            "display": "inline-flex",
            "flex": null,
            "flex_flow": "row wrap",
            "grid_area": null,
            "grid_auto_columns": null,
            "grid_auto_flow": null,
            "grid_auto_rows": null,
            "grid_column": null,
            "grid_gap": null,
            "grid_row": null,
            "grid_template_areas": null,
            "grid_template_columns": null,
            "grid_template_rows": null,
            "height": null,
            "justify_content": null,
            "justify_items": null,
            "left": null,
            "margin": null,
            "max_height": null,
            "max_width": null,
            "min_height": null,
            "min_width": null,
            "object_fit": null,
            "object_position": null,
            "order": null,
            "overflow": null,
            "overflow_x": null,
            "overflow_y": null,
            "padding": null,
            "right": null,
            "top": null,
            "visibility": null,
            "width": "100%"
          }
        },
        "ebec506b92cf4e3dbd33851fa8284e06": {
          "model_module": "@jupyter-widgets/controls",
          "model_module_version": "1.5.0",
          "model_name": "FloatProgressModel",
          "state": {
            "_dom_classes": [],
            "_model_module": "@jupyter-widgets/controls",
            "_model_module_version": "1.5.0",
            "_model_name": "FloatProgressModel",
            "_view_count": null,
            "_view_module": "@jupyter-widgets/controls",
            "_view_module_version": "1.5.0",
            "_view_name": "ProgressView",
            "bar_style": "success",
            "description": "",
            "description_tooltip": null,
            "layout": "IPY_MODEL_5e892045e9e84ffe990d0aa0ad4ed0fe",
            "max": 1,
            "min": 0,
            "orientation": "horizontal",
            "style": "IPY_MODEL_bb232737e4ea412094d8c595ed230dff",
            "value": 1
          }
        }
      }
    }
  },
  "nbformat": 4,
  "nbformat_minor": 0
}
